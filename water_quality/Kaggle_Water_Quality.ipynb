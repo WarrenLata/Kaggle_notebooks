{
 "cells": [
  {
   "cell_type": "markdown",
   "metadata": {
    "application/vnd.databricks.v1+cell": {
     "inputWidgets": {},
     "nuid": "470ca5fb-5f28-4aa9-a6bb-2871b9ccb824",
     "showTitle": false,
     "title": ""
    }
   },
   "source": [
    "![Random Unsplash Image](https://i0.wp.com/hwise-rcn.org/wp-content/uploads/2020/06/780641-1.jpg?fit=1200%2C810&ssl=1)"
   ]
  },
  {
   "cell_type": "markdown",
   "metadata": {
    "application/vnd.databricks.v1+cell": {
     "inputWidgets": {},
     "nuid": "4f75c98f-a4d3-413d-b9b3-14ae411f2b49",
     "showTitle": false,
     "title": ""
    }
   },
   "source": [
    "# features descriptions \n",
    "\n",
    "<ol>\n",
    " <li>ph - the acid–base balance of water. WHO has recommended maximum permissible limit of pH from 6.5 to 8.5. The current investigation ranges were 6.52–6.83 which are in the range of WHO standards. At pH=7, the water is neutral, at pH less than 7 — acidic, at pH more than 7 — alkaline.</li>\n",
    " <li>\n",
    "Hardness - mainly caused by calcium and magnesium salts. General guidelines for classification of waters are: 0 to 60 mg/L (milligrams per liter) as calcium carbonate is classified as soft; 61 to 120 mg/L as moderately hard; 121 to 180 mg/L as hard; and more than 180 mg/L as very hard.</li>\n",
    " <li>Solids - water has the ability to dissolve a wide range of inorganic and some organic minerals or salts such as potassium, calcium, sodium, bicarbonates, chlorides, magnesium, sulfates etc. These minerals produced un-wanted taste and diluted color in appearance of water. This is the important parameter for the use of water. The water with high TDS value indicates that water is highly mineralized. Desirable limit for TDS is 500 mg/l and maximum limit is 1000 mg/l which prescribed for drinking purpose.</li>\n",
    "  <li>Chloramines - chlorine and chloramine are the major disinfectants used in public water systems. Chloramines are most commonly formed when ammonia is added to chlorine to treat drinking water. Chlorine levels up to 4 milligrams per liter (mg/L or 4 parts per million (ppm)) are considered safe in drinking water.</li>\n",
    "  <li> Sulfate - sulfates are naturally occurring substances that are found in minerals, soil, and rocks. Sulfate concentration in seawater is about 2,700 milligrams per liter (mg/L). It ranges from 3 to 30 mg/L in most freshwater supplies, although much higher concentrations (1000 mg/L) are found in some geographic locations.</li>\n",
    "  <li> Conductivity - pure water is not a good conductor of electric current rather’s a good insulator. Increase in ions concentration enhances the electrical conductivity of water. Generally, the amount of dissolved solids in water determines the electrical conductivity. Electrical conductivity (EC) actually measures the ionic process of a solution that enables it to transmit current. According to WHO standards, EC value should not exceeded 400 μS/cm.\n",
    "</li>\n",
    "  <li>Organic_carbon - total Organic Carbon (TOC) in source waters comes from decaying natural organic matter (NOM) as well as synthetic sources. TOC is a measure of the total amount of carbon in organic compounds in pure water. According to US EPA < 2 mg/L as TOC in treated / drinking water, and < 4 mg/Lit in source water which is use for treatment.</li>\n",
    "  <li> Trihalomethanes - THMs are chemicals which may be found in water treated with chlorine. The concentration of THMs in drinking water varies according to the level of organic material in the water, the amount of chlorine required to treat the water, and the temperature of the water that is being treated. The legal limit of total THMs in drinking water in Europe is 100 ppm.</li>\n",
    "</ol>"
   ]
  },
  {
   "cell_type": "code",
   "execution_count": null,
   "metadata": {
    "application/vnd.databricks.v1+cell": {
     "inputWidgets": {},
     "nuid": "fb5b6500-f876-42c0-9cd6-f0deeedbb7eb",
     "showTitle": false,
     "title": ""
    }
   },
   "outputs": [
    {
     "data": {
      "text/html": [
       "<style scoped>\n",
       "  .ansiout {\n",
       "    display: block;\n",
       "    unicode-bidi: embed;\n",
       "    white-space: pre-wrap;\n",
       "    word-wrap: break-word;\n",
       "    word-break: break-all;\n",
       "    font-family: \"Source Code Pro\", \"Menlo\", monospace;;\n",
       "    font-size: 13px;\n",
       "    color: #555;\n",
       "    margin-left: 4px;\n",
       "    line-height: 19px;\n",
       "  }\n",
       "</style>\n",
       "<div class=\"ansiout\"></div>"
      ]
     },
     "metadata": {
      "application/vnd.databricks.v1+output": {
       "addedWidgets": {},
       "arguments": {},
       "data": "<div class=\"ansiout\"></div>",
       "datasetInfos": [],
       "metadata": {},
       "removedWidgets": [],
       "type": "html"
      }
     },
     "output_type": "display_data"
    }
   ],
   "source": [
    "!pip install hyperopt\n",
    "!pip install mlflow"
   ]
  },
  {
   "cell_type": "code",
   "execution_count": null,
   "metadata": {
    "application/vnd.databricks.v1+cell": {
     "inputWidgets": {},
     "nuid": "bbe4c3db-8774-467d-8ca5-04127a8a95a0",
     "showTitle": false,
     "title": ""
    }
   },
   "outputs": [
    {
     "data": {
      "text/html": [
       "<style scoped>\n",
       "  .ansiout {\n",
       "    display: block;\n",
       "    unicode-bidi: embed;\n",
       "    white-space: pre-wrap;\n",
       "    word-wrap: break-word;\n",
       "    word-break: break-all;\n",
       "    font-family: \"Source Code Pro\", \"Menlo\", monospace;;\n",
       "    font-size: 13px;\n",
       "    color: #555;\n",
       "    margin-left: 4px;\n",
       "    line-height: 19px;\n",
       "  }\n",
       "</style>\n",
       "<div class=\"ansiout\"></div>"
      ]
     },
     "metadata": {
      "application/vnd.databricks.v1+output": {
       "addedWidgets": {},
       "arguments": {},
       "data": "<div class=\"ansiout\"></div>",
       "datasetInfos": [],
       "metadata": {},
       "removedWidgets": [],
       "type": "html"
      }
     },
     "output_type": "display_data"
    }
   ],
   "source": [
    "import mlflow\n",
    "import numpy as np\n",
    "import pandas as pd\n",
    "import matplotlib.pyplot as plt\n",
    "import sklearn.metrics\n",
    "import sklearn.model_selection\n",
    "import sklearn.ensemble\n",
    "import seaborn as sns\n",
    "\n",
    "%matplotlib inline\n",
    "sns.set_style('whitegrid')\n",
    "from sklearn.linear_model import LogisticRegression\n",
    "from imblearn.under_sampling import RandomUnderSampler\n",
    "from sklearn.model_selection import GridSearchCV\n",
    "from sklearn.preprocessing import StandardScaler\n",
    "from sklearn.metrics import precision_score, recall_score, f1_score, roc_auc_score, accuracy_score\n",
    "from sklearn.feature_selection import f_classif, chi2\n",
    "\n",
    "from sklearn.model_selection import cross_val_score, cross_validate\n",
    "from hyperopt import fmin, tpe, hp, SparkTrials, Trials, STATUS_OK\n",
    "from hyperopt.pyll import scope\n",
    "from scipy.stats import shapiro"
   ]
  },
  {
   "cell_type": "code",
   "execution_count": 1,
   "metadata": {
    "application/vnd.databricks.v1+cell": {
     "inputWidgets": {},
     "nuid": "7f21f9b8-6d02-456d-8458-1b08360aa981",
     "showTitle": false,
     "title": ""
    }
   },
   "outputs": [],
   "source": [
    "data= pd.read_csv(\"water_potability.csv\")"
   ]
  },
  {
   "cell_type": "code",
   "execution_count": null,
   "metadata": {
    "application/vnd.databricks.v1+cell": {
     "inputWidgets": {},
     "nuid": "01c99812-a222-49b4-a074-8f74222c786d",
     "showTitle": false,
     "title": ""
    }
   },
   "outputs": [
    {
     "data": {
      "text/html": [
       "<style scoped>\n",
       "  .ansiout {\n",
       "    display: block;\n",
       "    unicode-bidi: embed;\n",
       "    white-space: pre-wrap;\n",
       "    word-wrap: break-word;\n",
       "    word-break: break-all;\n",
       "    font-family: \"Source Code Pro\", \"Menlo\", monospace;;\n",
       "    font-size: 13px;\n",
       "    color: #555;\n",
       "    margin-left: 4px;\n",
       "    line-height: 19px;\n",
       "  }\n",
       "</style>\n",
       "<div class=\"ansiout\">&lt;class &#39;pandas.core.frame.DataFrame&#39;&gt;\n",
       "RangeIndex: 3276 entries, 0 to 3275\n",
       "Data columns (total 10 columns):\n",
       " #   Column           Non-Null Count  Dtype  \n",
       "---  ------           --------------  -----  \n",
       " 0   ph               2785 non-null   float64\n",
       " 1   Hardness         3276 non-null   float64\n",
       " 2   Solids           3276 non-null   float64\n",
       " 3   Chloramines      3276 non-null   float64\n",
       " 4   Sulfate          2495 non-null   float64\n",
       " 5   Conductivity     3276 non-null   float64\n",
       " 6   Organic_carbon   3276 non-null   float64\n",
       " 7   Trihalomethanes  3114 non-null   float64\n",
       " 8   Turbidity        3276 non-null   float64\n",
       " 9   Potability       3276 non-null   int64  \n",
       "dtypes: float64(9), int64(1)\n",
       "memory usage: 256.1 KB\n",
       "</div>"
      ]
     },
     "metadata": {
      "application/vnd.databricks.v1+output": {
       "addedWidgets": {},
       "arguments": {},
       "data": "<div class=\"ansiout\">&lt;class &#39;pandas.core.frame.DataFrame&#39;&gt;\nRangeIndex: 3276 entries, 0 to 3275\nData columns (total 10 columns):\n #   Column           Non-Null Count  Dtype  \n---  ------           --------------  -----  \n 0   ph               2785 non-null   float64\n 1   Hardness         3276 non-null   float64\n 2   Solids           3276 non-null   float64\n 3   Chloramines      3276 non-null   float64\n 4   Sulfate          2495 non-null   float64\n 5   Conductivity     3276 non-null   float64\n 6   Organic_carbon   3276 non-null   float64\n 7   Trihalomethanes  3114 non-null   float64\n 8   Turbidity        3276 non-null   float64\n 9   Potability       3276 non-null   int64  \ndtypes: float64(9), int64(1)\nmemory usage: 256.1 KB\n</div>",
       "datasetInfos": [],
       "metadata": {},
       "removedWidgets": [],
       "type": "html"
      }
     },
     "output_type": "display_data"
    }
   ],
   "source": [
    "data.info()"
   ]
  },
  {
   "cell_type": "code",
   "execution_count": null,
   "metadata": {
    "application/vnd.databricks.v1+cell": {
     "inputWidgets": {},
     "nuid": "fbc429d4-986a-44ae-a488-7aa471464783",
     "showTitle": false,
     "title": ""
    }
   },
   "outputs": [
    {
     "data": {
      "image/png": "[encoded data removed]"
     },
     "metadata": {
      "application/vnd.databricks.v1+output": {
       "addedWidgets": {},
       "arguments": {},
       "data": "/plots/7de3eb74-00c6-44c0-90b4-4254a992b9fc.png",
       "datasetInfos": [],
       "metadata": {},
       "removedWidgets": [],
       "type": "image"
      }
     },
     "output_type": "display_data"
    }
   ],
   "source": [
    "fig, ax = plt.subplots(figsize=(15, 10))\n",
    "data.hist(grid=True,ax=ax)"
   ]
  },
  {
   "cell_type": "code",
   "execution_count": 2,
   "metadata": {
    "application/vnd.databricks.v1+cell": {
     "inputWidgets": {},
     "nuid": "1aef3ff2-4568-4b9f-a9a8-7a0c59c8276c",
     "showTitle": true,
     "title": "Replace Nan with means with respect to their class "
    }
   },
   "outputs": [],
   "source": [
    "##################################### Imputing 'ph' value #####################################\n",
    "\n",
    "phMean_0 = data[data['Potability'] == 0]['ph'].mean(skipna=True)\n",
    "data.loc[(data['Potability'] == 0) & (data['ph'].isna()), 'ph'] = phMean_0\n",
    "phMean_1 = data[data['Potability'] == 1]['ph'].mean(skipna=True)\n",
    "data.loc[(data['Potability'] == 1) & (data['ph'].isna()), 'ph'] = phMean_1\n",
    "\n",
    "##################################### Imputing 'Sulfate' value #####################################\n",
    "\n",
    "SulfateMean_0 = data[data['Potability'] == 0]['Sulfate'].mean(skipna=True)\n",
    "data.loc[(data['Potability'] == 0) & (data['Sulfate'].isna()), 'Sulfate'] = SulfateMean_0\n",
    "SulfateMean_1 = data[data['Potability'] == 1]['Sulfate'].mean(skipna=True)\n",
    "data.loc[(data['Potability'] == 1) & (data['Sulfate'].isna()), 'Sulfate'] = SulfateMean_1\n",
    "\n",
    "################################ Imputing 'Trihalomethanes' value #####################################\n",
    "\n",
    "TrihalomethanesMean_0 = data[data['Potability'] == 0]['Trihalomethanes'].mean(skipna=True)\n",
    "data.loc[(data['Potability'] == 0) & (data['Trihalomethanes'].isna()), 'Trihalomethanes'] = TrihalomethanesMean_0\n",
    "TrihalomethanesMean_1 = data[data['Potability'] == 1]['Trihalomethanes'].mean(skipna=True)\n",
    "data.loc[(data['Potability'] == 1) & (data['Trihalomethanes'].isna()), 'Trihalomethanes'] = TrihalomethanesMean_1"
   ]
  },
  {
   "cell_type": "code",
   "execution_count": 3,
   "metadata": {
    "application/vnd.databricks.v1+cell": {
     "inputWidgets": {},
     "nuid": "58241c30-cc65-44e7-beec-e05c859f3fb6",
     "showTitle": true,
     "title": "Distribution"
    }
   },
   "outputs": [
    {
     "data": {
      "image/png": "[encoded data removed]",
      "text/plain": [
       "<Figure size 1008x2016 with 18 Axes>"
      ]
     },
     "metadata": {
      "needs_background": "light"
     },
     "output_type": "display_data"
    }
   ],
   "source": [
    "#print('Boxplot and density distribution of different features by Potability\\n')\n",
    "\n",
    "fig, ax = plt.subplots(ncols=2, nrows=9, figsize=(14, 28))\n",
    "\n",
    "features = list(data.columns.drop('Potability'))\n",
    "i=0\n",
    "for cols in features:\n",
    "    sns.kdeplot(data[cols], fill=True, alpha=0.4, hue = data.Potability, \n",
    "                palette=('indianred', 'steelblue'), multiple='stack', ax=ax[i,0])\n",
    "    \n",
    "    sns.boxplot(data= data, y=cols, x='Potability', ax=ax[i, 1],\n",
    "               palette=('indianred', 'steelblue'))\n",
    "    ax[i,0].set_xlabel(' ')\n",
    "    ax[i,1].set_xlabel(' ')\n",
    "    ax[i,1].set_ylabel(' ')\n",
    "    ax[i,1].xaxis.set_tick_params(labelsize=14)\n",
    "    ax[i,0].tick_params(left=False, labelleft=False)\n",
    "    ax[i,0].set_ylabel(cols, fontsize=16)\n",
    "    i=i+1\n",
    "plt.show()"
   ]
  },
  {
   "cell_type": "markdown",
   "metadata": {
    "application/vnd.databricks.v1+cell": {
     "inputWidgets": {},
     "nuid": "c58cac56-0ca6-45f9-a3df-bcae0b931bb2",
     "showTitle": false,
     "title": ""
    }
   },
   "source": [
    "We can't see any big difference in mean values of the features among the levels of Potability.! Seems this is not real data"
   ]
  },
  {
   "cell_type": "code",
   "execution_count": null,
   "metadata": {
    "application/vnd.databricks.v1+cell": {
     "inputWidgets": {},
     "nuid": "a8baaaa3-b5db-4ae7-be0c-5f46f1e59e46",
     "showTitle": true,
     "title": "Check Correlation"
    }
   },
   "outputs": [
    {
     "data": {
      "text/html": [
       "<style  type=\"text/css\" >\n",
       "    #T_dbb22c94_e961_11eb_82c4_00163ed6b338row0_col0 {\n",
       "            background-color:  #b40426;\n",
       "            color:  #f1f1f1;\n",
       "        }    #T_dbb22c94_e961_11eb_82c4_00163ed6b338row0_col1 {\n",
       "            background-color:  #6b8df0;\n",
       "            color:  #000000;\n",
       "        }    #T_dbb22c94_e961_11eb_82c4_00163ed6b338row0_col2 {\n",
       "            background-color:  #4c66d6;\n",
       "            color:  #000000;\n",
       "        }    #T_dbb22c94_e961_11eb_82c4_00163ed6b338row0_col3 {\n",
       "            background-color:  #455cce;\n",
       "            color:  #f1f1f1;\n",
       "        }    #T_dbb22c94_e961_11eb_82c4_00163ed6b338row0_col4 {\n",
       "            background-color:  #6788ee;\n",
       "            color:  #000000;\n",
       "        }    #T_dbb22c94_e961_11eb_82c4_00163ed6b338row0_col5 {\n",
       "            background-color:  #465ecf;\n",
       "            color:  #f1f1f1;\n",
       "        }    #T_dbb22c94_e961_11eb_82c4_00163ed6b338row0_col6 {\n",
       "            background-color:  #4f69d9;\n",
       "            color:  #000000;\n",
       "        }    #T_dbb22c94_e961_11eb_82c4_00163ed6b338row0_col7 {\n",
       "            background-color:  #4358cb;\n",
       "            color:  #f1f1f1;\n",
       "        }    #T_dbb22c94_e961_11eb_82c4_00163ed6b338row0_col8 {\n",
       "            background-color:  #3b4cc0;\n",
       "            color:  #f1f1f1;\n",
       "        }    #T_dbb22c94_e961_11eb_82c4_00163ed6b338row0_col9 {\n",
       "            background-color:  #4257c9;\n",
       "            color:  #f1f1f1;\n",
       "        }    #T_dbb22c94_e961_11eb_82c4_00163ed6b338row1_col0 {\n",
       "            background-color:  #688aef;\n",
       "            color:  #000000;\n",
       "        }    #T_dbb22c94_e961_11eb_82c4_00163ed6b338row1_col1 {\n",
       "            background-color:  #b40426;\n",
       "            color:  #f1f1f1;\n",
       "        }    #T_dbb22c94_e961_11eb_82c4_00163ed6b338row1_col2 {\n",
       "            background-color:  #5572df;\n",
       "            color:  #000000;\n",
       "        }    #T_dbb22c94_e961_11eb_82c4_00163ed6b338row1_col3 {\n",
       "            background-color:  #455cce;\n",
       "            color:  #f1f1f1;\n",
       "        }    #T_dbb22c94_e961_11eb_82c4_00163ed6b338row1_col4 {\n",
       "            background-color:  #4961d2;\n",
       "            color:  #f1f1f1;\n",
       "        }    #T_dbb22c94_e961_11eb_82c4_00163ed6b338row1_col5 {\n",
       "            background-color:  #3b4cc0;\n",
       "            color:  #f1f1f1;\n",
       "        }    #T_dbb22c94_e961_11eb_82c4_00163ed6b338row1_col6 {\n",
       "            background-color:  #445acc;\n",
       "            color:  #f1f1f1;\n",
       "        }    #T_dbb22c94_e961_11eb_82c4_00163ed6b338row1_col7 {\n",
       "            background-color:  #3e51c5;\n",
       "            color:  #f1f1f1;\n",
       "        }    #T_dbb22c94_e961_11eb_82c4_00163ed6b338row1_col8 {\n",
       "            background-color:  #4055c8;\n",
       "            color:  #f1f1f1;\n",
       "        }    #T_dbb22c94_e961_11eb_82c4_00163ed6b338row1_col9 {\n",
       "            background-color:  #3f53c6;\n",
       "            color:  #f1f1f1;\n",
       "        }    #T_dbb22c94_e961_11eb_82c4_00163ed6b338row2_col0 {\n",
       "            background-color:  #3b4cc0;\n",
       "            color:  #f1f1f1;\n",
       "        }    #T_dbb22c94_e961_11eb_82c4_00163ed6b338row2_col1 {\n",
       "            background-color:  #465ecf;\n",
       "            color:  #f1f1f1;\n",
       "        }    #T_dbb22c94_e961_11eb_82c4_00163ed6b338row2_col2 {\n",
       "            background-color:  #b40426;\n",
       "            color:  #f1f1f1;\n",
       "        }    #T_dbb22c94_e961_11eb_82c4_00163ed6b338row2_col3 {\n",
       "            background-color:  #3b4cc0;\n",
       "            color:  #f1f1f1;\n",
       "        }    #T_dbb22c94_e961_11eb_82c4_00163ed6b338row2_col4 {\n",
       "            background-color:  #3b4cc0;\n",
       "            color:  #f1f1f1;\n",
       "        }    #T_dbb22c94_e961_11eb_82c4_00163ed6b338row2_col5 {\n",
       "            background-color:  #455cce;\n",
       "            color:  #f1f1f1;\n",
       "        }    #T_dbb22c94_e961_11eb_82c4_00163ed6b338row2_col6 {\n",
       "            background-color:  #465ecf;\n",
       "            color:  #f1f1f1;\n",
       "        }    #T_dbb22c94_e961_11eb_82c4_00163ed6b338row2_col7 {\n",
       "            background-color:  #3f53c6;\n",
       "            color:  #f1f1f1;\n",
       "        }    #T_dbb22c94_e961_11eb_82c4_00163ed6b338row2_col8 {\n",
       "            background-color:  #4a63d3;\n",
       "            color:  #f1f1f1;\n",
       "        }    #T_dbb22c94_e961_11eb_82c4_00163ed6b338row2_col9 {\n",
       "            background-color:  #4c66d6;\n",
       "            color:  #000000;\n",
       "        }    #T_dbb22c94_e961_11eb_82c4_00163ed6b338row3_col0 {\n",
       "            background-color:  #485fd1;\n",
       "            color:  #f1f1f1;\n",
       "        }    #T_dbb22c94_e961_11eb_82c4_00163ed6b338row3_col1 {\n",
       "            background-color:  #4b64d5;\n",
       "            color:  #f1f1f1;\n",
       "        }    #T_dbb22c94_e961_11eb_82c4_00163ed6b338row3_col2 {\n",
       "            background-color:  #4f69d9;\n",
       "            color:  #000000;\n",
       "        }    #T_dbb22c94_e961_11eb_82c4_00163ed6b338row3_col3 {\n",
       "            background-color:  #b40426;\n",
       "            color:  #f1f1f1;\n",
       "        }    #T_dbb22c94_e961_11eb_82c4_00163ed6b338row3_col4 {\n",
       "            background-color:  #6a8bef;\n",
       "            color:  #000000;\n",
       "        }    #T_dbb22c94_e961_11eb_82c4_00163ed6b338row3_col5 {\n",
       "            background-color:  #3b4cc0;\n",
       "            color:  #f1f1f1;\n",
       "        }    #T_dbb22c94_e961_11eb_82c4_00163ed6b338row3_col6 {\n",
       "            background-color:  #3f53c6;\n",
       "            color:  #f1f1f1;\n",
       "        }    #T_dbb22c94_e961_11eb_82c4_00163ed6b338row3_col7 {\n",
       "            background-color:  #465ecf;\n",
       "            color:  #f1f1f1;\n",
       "        }    #T_dbb22c94_e961_11eb_82c4_00163ed6b338row3_col8 {\n",
       "            background-color:  #455cce;\n",
       "            color:  #f1f1f1;\n",
       "        }    #T_dbb22c94_e961_11eb_82c4_00163ed6b338row3_col9 {\n",
       "            background-color:  #4a63d3;\n",
       "            color:  #f1f1f1;\n",
       "        }    #T_dbb22c94_e961_11eb_82c4_00163ed6b338row4_col0 {\n",
       "            background-color:  #5572df;\n",
       "            color:  #000000;\n",
       "        }    #T_dbb22c94_e961_11eb_82c4_00163ed6b338row4_col1 {\n",
       "            background-color:  #3b4cc0;\n",
       "            color:  #f1f1f1;\n",
       "        }    #T_dbb22c94_e961_11eb_82c4_00163ed6b338row4_col2 {\n",
       "            background-color:  #3b4cc0;\n",
       "            color:  #f1f1f1;\n",
       "        }    #T_dbb22c94_e961_11eb_82c4_00163ed6b338row4_col3 {\n",
       "            background-color:  #5572df;\n",
       "            color:  #000000;\n",
       "        }    #T_dbb22c94_e961_11eb_82c4_00163ed6b338row4_col4 {\n",
       "            background-color:  #b40426;\n",
       "            color:  #f1f1f1;\n",
       "        }    #T_dbb22c94_e961_11eb_82c4_00163ed6b338row4_col5 {\n",
       "            background-color:  #3d50c3;\n",
       "            color:  #f1f1f1;\n",
       "        }    #T_dbb22c94_e961_11eb_82c4_00163ed6b338row4_col6 {\n",
       "            background-color:  #4b64d5;\n",
       "            color:  #f1f1f1;\n",
       "        }    #T_dbb22c94_e961_11eb_82c4_00163ed6b338row4_col7 {\n",
       "            background-color:  #3b4cc0;\n",
       "            color:  #f1f1f1;\n",
       "        }    #T_dbb22c94_e961_11eb_82c4_00163ed6b338row4_col8 {\n",
       "            background-color:  #4257c9;\n",
       "            color:  #f1f1f1;\n",
       "        }    #T_dbb22c94_e961_11eb_82c4_00163ed6b338row4_col9 {\n",
       "            background-color:  #3b4cc0;\n",
       "            color:  #f1f1f1;\n",
       "        }    #T_dbb22c94_e961_11eb_82c4_00163ed6b338row5_col0 {\n",
       "            background-color:  #5673e0;\n",
       "            color:  #000000;\n",
       "        }    #T_dbb22c94_e961_11eb_82c4_00163ed6b338row5_col1 {\n",
       "            background-color:  #4e68d8;\n",
       "            color:  #000000;\n",
       "        }    #T_dbb22c94_e961_11eb_82c4_00163ed6b338row5_col2 {\n",
       "            background-color:  #6788ee;\n",
       "            color:  #000000;\n",
       "        }    #T_dbb22c94_e961_11eb_82c4_00163ed6b338row5_col3 {\n",
       "            background-color:  #485fd1;\n",
       "            color:  #f1f1f1;\n",
       "        }    #T_dbb22c94_e961_11eb_82c4_00163ed6b338row5_col4 {\n",
       "            background-color:  #5f7fe8;\n",
       "            color:  #000000;\n",
       "        }    #T_dbb22c94_e961_11eb_82c4_00163ed6b338row5_col5 {\n",
       "            background-color:  #b40426;\n",
       "            color:  #f1f1f1;\n",
       "        }    #T_dbb22c94_e961_11eb_82c4_00163ed6b338row5_col6 {\n",
       "            background-color:  #4961d2;\n",
       "            color:  #f1f1f1;\n",
       "        }    #T_dbb22c94_e961_11eb_82c4_00163ed6b338row5_col7 {\n",
       "            background-color:  #4257c9;\n",
       "            color:  #f1f1f1;\n",
       "        }    #T_dbb22c94_e961_11eb_82c4_00163ed6b338row5_col8 {\n",
       "            background-color:  #465ecf;\n",
       "            color:  #f1f1f1;\n",
       "        }    #T_dbb22c94_e961_11eb_82c4_00163ed6b338row5_col9 {\n",
       "            background-color:  #4055c8;\n",
       "            color:  #f1f1f1;\n",
       "        }    #T_dbb22c94_e961_11eb_82c4_00163ed6b338row6_col0 {\n",
       "            background-color:  #5d7ce6;\n",
       "            color:  #000000;\n",
       "        }    #T_dbb22c94_e961_11eb_82c4_00163ed6b338row6_col1 {\n",
       "            background-color:  #5572df;\n",
       "            color:  #000000;\n",
       "        }    #T_dbb22c94_e961_11eb_82c4_00163ed6b338row6_col2 {\n",
       "            background-color:  #6687ed;\n",
       "            color:  #000000;\n",
       "        }    #T_dbb22c94_e961_11eb_82c4_00163ed6b338row6_col3 {\n",
       "            background-color:  #4a63d3;\n",
       "            color:  #f1f1f1;\n",
       "        }    #T_dbb22c94_e961_11eb_82c4_00163ed6b338row6_col4 {\n",
       "            background-color:  #6b8df0;\n",
       "            color:  #000000;\n",
       "        }    #T_dbb22c94_e961_11eb_82c4_00163ed6b338row6_col5 {\n",
       "            background-color:  #485fd1;\n",
       "            color:  #f1f1f1;\n",
       "        }    #T_dbb22c94_e961_11eb_82c4_00163ed6b338row6_col6 {\n",
       "            background-color:  #b40426;\n",
       "            color:  #f1f1f1;\n",
       "        }    #T_dbb22c94_e961_11eb_82c4_00163ed6b338row6_col7 {\n",
       "            background-color:  #3e51c5;\n",
       "            color:  #f1f1f1;\n",
       "        }    #T_dbb22c94_e961_11eb_82c4_00163ed6b338row6_col8 {\n",
       "            background-color:  #3d50c3;\n",
       "            color:  #f1f1f1;\n",
       "        }    #T_dbb22c94_e961_11eb_82c4_00163ed6b338row6_col9 {\n",
       "            background-color:  #3b4cc0;\n",
       "            color:  #f1f1f1;\n",
       "        }    #T_dbb22c94_e961_11eb_82c4_00163ed6b338row7_col0 {\n",
       "            background-color:  #536edd;\n",
       "            color:  #000000;\n",
       "        }    #T_dbb22c94_e961_11eb_82c4_00163ed6b338row7_col1 {\n",
       "            background-color:  #506bda;\n",
       "            color:  #000000;\n",
       "        }    #T_dbb22c94_e961_11eb_82c4_00163ed6b338row7_col2 {\n",
       "            background-color:  #6180e9;\n",
       "            color:  #000000;\n",
       "        }    #T_dbb22c94_e961_11eb_82c4_00163ed6b338row7_col3 {\n",
       "            background-color:  #536edd;\n",
       "            color:  #000000;\n",
       "        }    #T_dbb22c94_e961_11eb_82c4_00163ed6b338row7_col4 {\n",
       "            background-color:  #5b7ae5;\n",
       "            color:  #000000;\n",
       "        }    #T_dbb22c94_e961_11eb_82c4_00163ed6b338row7_col5 {\n",
       "            background-color:  #4257c9;\n",
       "            color:  #f1f1f1;\n",
       "        }    #T_dbb22c94_e961_11eb_82c4_00163ed6b338row7_col6 {\n",
       "            background-color:  #3f53c6;\n",
       "            color:  #f1f1f1;\n",
       "        }    #T_dbb22c94_e961_11eb_82c4_00163ed6b338row7_col7 {\n",
       "            background-color:  #b40426;\n",
       "            color:  #f1f1f1;\n",
       "        }    #T_dbb22c94_e961_11eb_82c4_00163ed6b338row7_col8 {\n",
       "            background-color:  #3e51c5;\n",
       "            color:  #f1f1f1;\n",
       "        }    #T_dbb22c94_e961_11eb_82c4_00163ed6b338row7_col9 {\n",
       "            background-color:  #455cce;\n",
       "            color:  #f1f1f1;\n",
       "        }    #T_dbb22c94_e961_11eb_82c4_00163ed6b338row8_col0 {\n",
       "            background-color:  #465ecf;\n",
       "            color:  #f1f1f1;\n",
       "        }    #T_dbb22c94_e961_11eb_82c4_00163ed6b338row8_col1 {\n",
       "            background-color:  #506bda;\n",
       "            color:  #000000;\n",
       "        }    #T_dbb22c94_e961_11eb_82c4_00163ed6b338row8_col2 {\n",
       "            background-color:  #688aef;\n",
       "            color:  #000000;\n",
       "        }    #T_dbb22c94_e961_11eb_82c4_00163ed6b338row8_col3 {\n",
       "            background-color:  #4f69d9;\n",
       "            color:  #000000;\n",
       "        }    #T_dbb22c94_e961_11eb_82c4_00163ed6b338row8_col4 {\n",
       "            background-color:  #6180e9;\n",
       "            color:  #000000;\n",
       "        }    #T_dbb22c94_e961_11eb_82c4_00163ed6b338row8_col5 {\n",
       "            background-color:  #4358cb;\n",
       "            color:  #f1f1f1;\n",
       "        }    #T_dbb22c94_e961_11eb_82c4_00163ed6b338row8_col6 {\n",
       "            background-color:  #3b4cc0;\n",
       "            color:  #f1f1f1;\n",
       "        }    #T_dbb22c94_e961_11eb_82c4_00163ed6b338row8_col7 {\n",
       "            background-color:  #3c4ec2;\n",
       "            color:  #f1f1f1;\n",
       "        }    #T_dbb22c94_e961_11eb_82c4_00163ed6b338row8_col8 {\n",
       "            background-color:  #b40426;\n",
       "            color:  #f1f1f1;\n",
       "        }    #T_dbb22c94_e961_11eb_82c4_00163ed6b338row8_col9 {\n",
       "            background-color:  #4358cb;\n",
       "            color:  #f1f1f1;\n",
       "        }    #T_dbb22c94_e961_11eb_82c4_00163ed6b338row9_col0 {\n",
       "            background-color:  #506bda;\n",
       "            color:  #000000;\n",
       "        }    #T_dbb22c94_e961_11eb_82c4_00163ed6b338row9_col1 {\n",
       "            background-color:  #506bda;\n",
       "            color:  #000000;\n",
       "        }    #T_dbb22c94_e961_11eb_82c4_00163ed6b338row9_col2 {\n",
       "            background-color:  #6c8ff1;\n",
       "            color:  #000000;\n",
       "        }    #T_dbb22c94_e961_11eb_82c4_00163ed6b338row9_col3 {\n",
       "            background-color:  #5572df;\n",
       "            color:  #000000;\n",
       "        }    #T_dbb22c94_e961_11eb_82c4_00163ed6b338row9_col4 {\n",
       "            background-color:  #5b7ae5;\n",
       "            color:  #000000;\n",
       "        }    #T_dbb22c94_e961_11eb_82c4_00163ed6b338row9_col5 {\n",
       "            background-color:  #3e51c5;\n",
       "            color:  #f1f1f1;\n",
       "        }    #T_dbb22c94_e961_11eb_82c4_00163ed6b338row9_col6 {\n",
       "            background-color:  #3b4cc0;\n",
       "            color:  #f1f1f1;\n",
       "        }    #T_dbb22c94_e961_11eb_82c4_00163ed6b338row9_col7 {\n",
       "            background-color:  #445acc;\n",
       "            color:  #f1f1f1;\n",
       "        }    #T_dbb22c94_e961_11eb_82c4_00163ed6b338row9_col8 {\n",
       "            background-color:  #455cce;\n",
       "            color:  #f1f1f1;\n",
       "        }    #T_dbb22c94_e961_11eb_82c4_00163ed6b338row9_col9 {\n",
       "            background-color:  #b40426;\n",
       "            color:  #f1f1f1;\n",
       "        }</style><table id=\"T_dbb22c94_e961_11eb_82c4_00163ed6b338\" ><thead>    <tr>        <th class=\"blank level0\" ></th>        <th class=\"col_heading level0 col0\" >ph</th>        <th class=\"col_heading level0 col1\" >Hardness</th>        <th class=\"col_heading level0 col2\" >Solids</th>        <th class=\"col_heading level0 col3\" >Chloramines</th>        <th class=\"col_heading level0 col4\" >Sulfate</th>        <th class=\"col_heading level0 col5\" >Conductivity</th>        <th class=\"col_heading level0 col6\" >Organic_carbon</th>        <th class=\"col_heading level0 col7\" >Trihalomethanes</th>        <th class=\"col_heading level0 col8\" >Turbidity</th>        <th class=\"col_heading level0 col9\" >Potability</th>    </tr></thead><tbody>\n",
       "                <tr>\n",
       "                        <th id=\"T_dbb22c94_e961_11eb_82c4_00163ed6b338level0_row0\" class=\"row_heading level0 row0\" >ph</th>\n",
       "                        <td id=\"T_dbb22c94_e961_11eb_82c4_00163ed6b338row0_col0\" class=\"data row0 col0\" >1.000000</td>\n",
       "                        <td id=\"T_dbb22c94_e961_11eb_82c4_00163ed6b338row0_col1\" class=\"data row0 col1\" >0.075878</td>\n",
       "                        <td id=\"T_dbb22c94_e961_11eb_82c4_00163ed6b338row0_col2\" class=\"data row0 col2\" >-0.081887</td>\n",
       "                        <td id=\"T_dbb22c94_e961_11eb_82c4_00163ed6b338row0_col3\" class=\"data row0 col3\" >-0.031827</td>\n",
       "                        <td id=\"T_dbb22c94_e961_11eb_82c4_00163ed6b338row0_col4\" class=\"data row0 col4\" >0.014785</td>\n",
       "                        <td id=\"T_dbb22c94_e961_11eb_82c4_00163ed6b338row0_col5\" class=\"data row0 col5\" >0.017205</td>\n",
       "                        <td id=\"T_dbb22c94_e961_11eb_82c4_00163ed6b338row0_col6\" class=\"data row0 col6\" >0.040092</td>\n",
       "                        <td id=\"T_dbb22c94_e961_11eb_82c4_00163ed6b338row0_col7\" class=\"data row0 col7\" >0.003009</td>\n",
       "                        <td id=\"T_dbb22c94_e961_11eb_82c4_00163ed6b338row0_col8\" class=\"data row0 col8\" >-0.036211</td>\n",
       "                        <td id=\"T_dbb22c94_e961_11eb_82c4_00163ed6b338row0_col9\" class=\"data row0 col9\" >-0.003848</td>\n",
       "            </tr>\n",
       "            <tr>\n",
       "                        <th id=\"T_dbb22c94_e961_11eb_82c4_00163ed6b338level0_row1\" class=\"row_heading level0 row1\" >Hardness</th>\n",
       "                        <td id=\"T_dbb22c94_e961_11eb_82c4_00163ed6b338row1_col0\" class=\"data row1 col0\" >0.075878</td>\n",
       "                        <td id=\"T_dbb22c94_e961_11eb_82c4_00163ed6b338row1_col1\" class=\"data row1 col1\" >1.000000</td>\n",
       "                        <td id=\"T_dbb22c94_e961_11eb_82c4_00163ed6b338row1_col2\" class=\"data row1 col2\" >-0.046899</td>\n",
       "                        <td id=\"T_dbb22c94_e961_11eb_82c4_00163ed6b338row1_col3\" class=\"data row1 col3\" >-0.030054</td>\n",
       "                        <td id=\"T_dbb22c94_e961_11eb_82c4_00163ed6b338row1_col4\" class=\"data row1 col4\" >-0.092718</td>\n",
       "                        <td id=\"T_dbb22c94_e961_11eb_82c4_00163ed6b338row1_col5\" class=\"data row1 col5\" >-0.023915</td>\n",
       "                        <td id=\"T_dbb22c94_e961_11eb_82c4_00163ed6b338row1_col6\" class=\"data row1 col6\" >0.003610</td>\n",
       "                        <td id=\"T_dbb22c94_e961_11eb_82c4_00163ed6b338row1_col7\" class=\"data row1 col7\" >-0.012718</td>\n",
       "                        <td id=\"T_dbb22c94_e961_11eb_82c4_00163ed6b338row1_col8\" class=\"data row1 col8\" >-0.014449</td>\n",
       "                        <td id=\"T_dbb22c94_e961_11eb_82c4_00163ed6b338row1_col9\" class=\"data row1 col9\" >-0.013837</td>\n",
       "            </tr>\n",
       "            <tr>\n",
       "                        <th id=\"T_dbb22c94_e961_11eb_82c4_00163ed6b338level0_row2\" class=\"row_heading level0 row2\" >Solids</th>\n",
       "                        <td id=\"T_dbb22c94_e961_11eb_82c4_00163ed6b338row2_col0\" class=\"data row2 col0\" >-0.081887</td>\n",
       "                        <td id=\"T_dbb22c94_e961_11eb_82c4_00163ed6b338row2_col1\" class=\"data row2 col1\" >-0.046899</td>\n",
       "                        <td id=\"T_dbb22c94_e961_11eb_82c4_00163ed6b338row2_col2\" class=\"data row2 col2\" >1.000000</td>\n",
       "                        <td id=\"T_dbb22c94_e961_11eb_82c4_00163ed6b338row2_col3\" class=\"data row2 col3\" >-0.070148</td>\n",
       "                        <td id=\"T_dbb22c94_e961_11eb_82c4_00163ed6b338row2_col4\" class=\"data row2 col4\" >-0.149809</td>\n",
       "                        <td id=\"T_dbb22c94_e961_11eb_82c4_00163ed6b338row2_col5\" class=\"data row2 col5\" >0.013831</td>\n",
       "                        <td id=\"T_dbb22c94_e961_11eb_82c4_00163ed6b338row2_col6\" class=\"data row2 col6\" >0.010242</td>\n",
       "                        <td id=\"T_dbb22c94_e961_11eb_82c4_00163ed6b338row2_col7\" class=\"data row2 col7\" >-0.008849</td>\n",
       "                        <td id=\"T_dbb22c94_e961_11eb_82c4_00163ed6b338row2_col8\" class=\"data row2 col8\" >0.019546</td>\n",
       "                        <td id=\"T_dbb22c94_e961_11eb_82c4_00163ed6b338row2_col9\" class=\"data row2 col9\" >0.033743</td>\n",
       "            </tr>\n",
       "            <tr>\n",
       "                        <th id=\"T_dbb22c94_e961_11eb_82c4_00163ed6b338level0_row3\" class=\"row_heading level0 row3\" >Chloramines</th>\n",
       "                        <td id=\"T_dbb22c94_e961_11eb_82c4_00163ed6b338row3_col0\" class=\"data row3 col0\" >-0.031827</td>\n",
       "                        <td id=\"T_dbb22c94_e961_11eb_82c4_00163ed6b338row3_col1\" class=\"data row3 col1\" >-0.030054</td>\n",
       "                        <td id=\"T_dbb22c94_e961_11eb_82c4_00163ed6b338row3_col2\" class=\"data row3 col2\" >-0.070148</td>\n",
       "                        <td id=\"T_dbb22c94_e961_11eb_82c4_00163ed6b338row3_col3\" class=\"data row3 col3\" >1.000000</td>\n",
       "                        <td id=\"T_dbb22c94_e961_11eb_82c4_00163ed6b338row3_col4\" class=\"data row3 col4\" >0.023490</td>\n",
       "                        <td id=\"T_dbb22c94_e961_11eb_82c4_00163ed6b338row3_col5\" class=\"data row3 col5\" >-0.020486</td>\n",
       "                        <td id=\"T_dbb22c94_e961_11eb_82c4_00163ed6b338row3_col6\" class=\"data row3 col6\" >-0.012653</td>\n",
       "                        <td id=\"T_dbb22c94_e961_11eb_82c4_00163ed6b338row3_col7\" class=\"data row3 col7\" >0.016615</td>\n",
       "                        <td id=\"T_dbb22c94_e961_11eb_82c4_00163ed6b338row3_col8\" class=\"data row3 col8\" >0.002363</td>\n",
       "                        <td id=\"T_dbb22c94_e961_11eb_82c4_00163ed6b338row3_col9\" class=\"data row3 col9\" >0.023779</td>\n",
       "            </tr>\n",
       "            <tr>\n",
       "                        <th id=\"T_dbb22c94_e961_11eb_82c4_00163ed6b338level0_row4\" class=\"row_heading level0 row4\" >Sulfate</th>\n",
       "                        <td id=\"T_dbb22c94_e961_11eb_82c4_00163ed6b338row4_col0\" class=\"data row4 col0\" >0.014785</td>\n",
       "                        <td id=\"T_dbb22c94_e961_11eb_82c4_00163ed6b338row4_col1\" class=\"data row4 col1\" >-0.092718</td>\n",
       "                        <td id=\"T_dbb22c94_e961_11eb_82c4_00163ed6b338row4_col2\" class=\"data row4 col2\" >-0.149809</td>\n",
       "                        <td id=\"T_dbb22c94_e961_11eb_82c4_00163ed6b338row4_col3\" class=\"data row4 col3\" >0.023490</td>\n",
       "                        <td id=\"T_dbb22c94_e961_11eb_82c4_00163ed6b338row4_col4\" class=\"data row4 col4\" >1.000000</td>\n",
       "                        <td id=\"T_dbb22c94_e961_11eb_82c4_00163ed6b338row4_col5\" class=\"data row4 col5\" >-0.014196</td>\n",
       "                        <td id=\"T_dbb22c94_e961_11eb_82c4_00163ed6b338row4_col6\" class=\"data row4 col6\" >0.027403</td>\n",
       "                        <td id=\"T_dbb22c94_e961_11eb_82c4_00163ed6b338row4_col7\" class=\"data row4 col7\" >-0.025797</td>\n",
       "                        <td id=\"T_dbb22c94_e961_11eb_82c4_00163ed6b338row4_col8\" class=\"data row4 col8\" >-0.009523</td>\n",
       "                        <td id=\"T_dbb22c94_e961_11eb_82c4_00163ed6b338row4_col9\" class=\"data row4 col9\" >-0.026957</td>\n",
       "            </tr>\n",
       "            <tr>\n",
       "                        <th id=\"T_dbb22c94_e961_11eb_82c4_00163ed6b338level0_row5\" class=\"row_heading level0 row5\" >Conductivity</th>\n",
       "                        <td id=\"T_dbb22c94_e961_11eb_82c4_00163ed6b338row5_col0\" class=\"data row5 col0\" >0.017205</td>\n",
       "                        <td id=\"T_dbb22c94_e961_11eb_82c4_00163ed6b338row5_col1\" class=\"data row5 col1\" >-0.023915</td>\n",
       "                        <td id=\"T_dbb22c94_e961_11eb_82c4_00163ed6b338row5_col2\" class=\"data row5 col2\" >0.013831</td>\n",
       "                        <td id=\"T_dbb22c94_e961_11eb_82c4_00163ed6b338row5_col3\" class=\"data row5 col3\" >-0.020486</td>\n",
       "                        <td id=\"T_dbb22c94_e961_11eb_82c4_00163ed6b338row5_col4\" class=\"data row5 col4\" >-0.014196</td>\n",
       "                        <td id=\"T_dbb22c94_e961_11eb_82c4_00163ed6b338row5_col5\" class=\"data row5 col5\" >1.000000</td>\n",
       "                        <td id=\"T_dbb22c94_e961_11eb_82c4_00163ed6b338row5_col6\" class=\"data row5 col6\" >0.020966</td>\n",
       "                        <td id=\"T_dbb22c94_e961_11eb_82c4_00163ed6b338row5_col7\" class=\"data row5 col7\" >0.001238</td>\n",
       "                        <td id=\"T_dbb22c94_e961_11eb_82c4_00163ed6b338row5_col8\" class=\"data row5 col8\" >0.005798</td>\n",
       "                        <td id=\"T_dbb22c94_e961_11eb_82c4_00163ed6b338row5_col9\" class=\"data row5 col9\" >-0.008128</td>\n",
       "            </tr>\n",
       "            <tr>\n",
       "                        <th id=\"T_dbb22c94_e961_11eb_82c4_00163ed6b338level0_row6\" class=\"row_heading level0 row6\" >Organic_carbon</th>\n",
       "                        <td id=\"T_dbb22c94_e961_11eb_82c4_00163ed6b338row6_col0\" class=\"data row6 col0\" >0.040092</td>\n",
       "                        <td id=\"T_dbb22c94_e961_11eb_82c4_00163ed6b338row6_col1\" class=\"data row6 col1\" >0.003610</td>\n",
       "                        <td id=\"T_dbb22c94_e961_11eb_82c4_00163ed6b338row6_col2\" class=\"data row6 col2\" >0.010242</td>\n",
       "                        <td id=\"T_dbb22c94_e961_11eb_82c4_00163ed6b338row6_col3\" class=\"data row6 col3\" >-0.012653</td>\n",
       "                        <td id=\"T_dbb22c94_e961_11eb_82c4_00163ed6b338row6_col4\" class=\"data row6 col4\" >0.027403</td>\n",
       "                        <td id=\"T_dbb22c94_e961_11eb_82c4_00163ed6b338row6_col5\" class=\"data row6 col5\" >0.020966</td>\n",
       "                        <td id=\"T_dbb22c94_e961_11eb_82c4_00163ed6b338row6_col6\" class=\"data row6 col6\" >1.000000</td>\n",
       "                        <td id=\"T_dbb22c94_e961_11eb_82c4_00163ed6b338row6_col7\" class=\"data row6 col7\" >-0.012944</td>\n",
       "                        <td id=\"T_dbb22c94_e961_11eb_82c4_00163ed6b338row6_col8\" class=\"data row6 col8\" >-0.027308</td>\n",
       "                        <td id=\"T_dbb22c94_e961_11eb_82c4_00163ed6b338row6_col9\" class=\"data row6 col9\" >-0.030001</td>\n",
       "            </tr>\n",
       "            <tr>\n",
       "                        <th id=\"T_dbb22c94_e961_11eb_82c4_00163ed6b338level0_row7\" class=\"row_heading level0 row7\" >Trihalomethanes</th>\n",
       "                        <td id=\"T_dbb22c94_e961_11eb_82c4_00163ed6b338row7_col0\" class=\"data row7 col0\" >0.003009</td>\n",
       "                        <td id=\"T_dbb22c94_e961_11eb_82c4_00163ed6b338row7_col1\" class=\"data row7 col1\" >-0.012718</td>\n",
       "                        <td id=\"T_dbb22c94_e961_11eb_82c4_00163ed6b338row7_col2\" class=\"data row7 col2\" >-0.008849</td>\n",
       "                        <td id=\"T_dbb22c94_e961_11eb_82c4_00163ed6b338row7_col3\" class=\"data row7 col3\" >0.016615</td>\n",
       "                        <td id=\"T_dbb22c94_e961_11eb_82c4_00163ed6b338row7_col4\" class=\"data row7 col4\" >-0.025797</td>\n",
       "                        <td id=\"T_dbb22c94_e961_11eb_82c4_00163ed6b338row7_col5\" class=\"data row7 col5\" >0.001238</td>\n",
       "                        <td id=\"T_dbb22c94_e961_11eb_82c4_00163ed6b338row7_col6\" class=\"data row7 col6\" >-0.012944</td>\n",
       "                        <td id=\"T_dbb22c94_e961_11eb_82c4_00163ed6b338row7_col7\" class=\"data row7 col7\" >1.000000</td>\n",
       "                        <td id=\"T_dbb22c94_e961_11eb_82c4_00163ed6b338row7_col8\" class=\"data row7 col8\" >-0.021540</td>\n",
       "                        <td id=\"T_dbb22c94_e961_11eb_82c4_00163ed6b338row7_col9\" class=\"data row7 col9\" >0.007305</td>\n",
       "            </tr>\n",
       "            <tr>\n",
       "                        <th id=\"T_dbb22c94_e961_11eb_82c4_00163ed6b338level0_row8\" class=\"row_heading level0 row8\" >Turbidity</th>\n",
       "                        <td id=\"T_dbb22c94_e961_11eb_82c4_00163ed6b338row8_col0\" class=\"data row8 col0\" >-0.036211</td>\n",
       "                        <td id=\"T_dbb22c94_e961_11eb_82c4_00163ed6b338row8_col1\" class=\"data row8 col1\" >-0.014449</td>\n",
       "                        <td id=\"T_dbb22c94_e961_11eb_82c4_00163ed6b338row8_col2\" class=\"data row8 col2\" >0.019546</td>\n",
       "                        <td id=\"T_dbb22c94_e961_11eb_82c4_00163ed6b338row8_col3\" class=\"data row8 col3\" >0.002363</td>\n",
       "                        <td id=\"T_dbb22c94_e961_11eb_82c4_00163ed6b338row8_col4\" class=\"data row8 col4\" >-0.009523</td>\n",
       "                        <td id=\"T_dbb22c94_e961_11eb_82c4_00163ed6b338row8_col5\" class=\"data row8 col5\" >0.005798</td>\n",
       "                        <td id=\"T_dbb22c94_e961_11eb_82c4_00163ed6b338row8_col6\" class=\"data row8 col6\" >-0.027308</td>\n",
       "                        <td id=\"T_dbb22c94_e961_11eb_82c4_00163ed6b338row8_col7\" class=\"data row8 col7\" >-0.021540</td>\n",
       "                        <td id=\"T_dbb22c94_e961_11eb_82c4_00163ed6b338row8_col8\" class=\"data row8 col8\" >1.000000</td>\n",
       "                        <td id=\"T_dbb22c94_e961_11eb_82c4_00163ed6b338row8_col9\" class=\"data row8 col9\" >0.001581</td>\n",
       "            </tr>\n",
       "            <tr>\n",
       "                        <th id=\"T_dbb22c94_e961_11eb_82c4_00163ed6b338level0_row9\" class=\"row_heading level0 row9\" >Potability</th>\n",
       "                        <td id=\"T_dbb22c94_e961_11eb_82c4_00163ed6b338row9_col0\" class=\"data row9 col0\" >-0.003848</td>\n",
       "                        <td id=\"T_dbb22c94_e961_11eb_82c4_00163ed6b338row9_col1\" class=\"data row9 col1\" >-0.013837</td>\n",
       "                        <td id=\"T_dbb22c94_e961_11eb_82c4_00163ed6b338row9_col2\" class=\"data row9 col2\" >0.033743</td>\n",
       "                        <td id=\"T_dbb22c94_e961_11eb_82c4_00163ed6b338row9_col3\" class=\"data row9 col3\" >0.023779</td>\n",
       "                        <td id=\"T_dbb22c94_e961_11eb_82c4_00163ed6b338row9_col4\" class=\"data row9 col4\" >-0.026957</td>\n",
       "                        <td id=\"T_dbb22c94_e961_11eb_82c4_00163ed6b338row9_col5\" class=\"data row9 col5\" >-0.008128</td>\n",
       "                        <td id=\"T_dbb22c94_e961_11eb_82c4_00163ed6b338row9_col6\" class=\"data row9 col6\" >-0.030001</td>\n",
       "                        <td id=\"T_dbb22c94_e961_11eb_82c4_00163ed6b338row9_col7\" class=\"data row9 col7\" >0.007305</td>\n",
       "                        <td id=\"T_dbb22c94_e961_11eb_82c4_00163ed6b338row9_col8\" class=\"data row9 col8\" >0.001581</td>\n",
       "                        <td id=\"T_dbb22c94_e961_11eb_82c4_00163ed6b338row9_col9\" class=\"data row9 col9\" >1.000000</td>\n",
       "            </tr>\n",
       "    </tbody></table>"
      ]
     },
     "metadata": {
      "application/vnd.databricks.v1+output": {
       "addedWidgets": {},
       "arguments": {},
       "data": "<style  type=\"text/css\" >\n    #T_dbb22c94_e961_11eb_82c4_00163ed6b338row0_col0 {\n            background-color:  #b40426;\n            color:  #f1f1f1;\n        }    #T_dbb22c94_e961_11eb_82c4_00163ed6b338row0_col1 {\n            background-color:  #6b8df0;\n            color:  #000000;\n        }    #T_dbb22c94_e961_11eb_82c4_00163ed6b338row0_col2 {\n            background-color:  #4c66d6;\n            color:  #000000;\n        }    #T_dbb22c94_e961_11eb_82c4_00163ed6b338row0_col3 {\n            background-color:  #455cce;\n            color:  #f1f1f1;\n        }    #T_dbb22c94_e961_11eb_82c4_00163ed6b338row0_col4 {\n            background-color:  #6788ee;\n            color:  #000000;\n        }    #T_dbb22c94_e961_11eb_82c4_00163ed6b338row0_col5 {\n            background-color:  #465ecf;\n            color:  #f1f1f1;\n        }    #T_dbb22c94_e961_11eb_82c4_00163ed6b338row0_col6 {\n            background-color:  #4f69d9;\n            color:  #000000;\n        }    #T_dbb22c94_e961_11eb_82c4_00163ed6b338row0_col7 {\n            background-color:  #4358cb;\n            color:  #f1f1f1;\n        }    #T_dbb22c94_e961_11eb_82c4_00163ed6b338row0_col8 {\n            background-color:  #3b4cc0;\n            color:  #f1f1f1;\n        }    #T_dbb22c94_e961_11eb_82c4_00163ed6b338row0_col9 {\n            background-color:  #4257c9;\n            color:  #f1f1f1;\n        }    #T_dbb22c94_e961_11eb_82c4_00163ed6b338row1_col0 {\n            background-color:  #688aef;\n            color:  #000000;\n        }    #T_dbb22c94_e961_11eb_82c4_00163ed6b338row1_col1 {\n            background-color:  #b40426;\n            color:  #f1f1f1;\n        }    #T_dbb22c94_e961_11eb_82c4_00163ed6b338row1_col2 {\n            background-color:  #5572df;\n            color:  #000000;\n        }    #T_dbb22c94_e961_11eb_82c4_00163ed6b338row1_col3 {\n            background-color:  #455cce;\n            color:  #f1f1f1;\n        }    #T_dbb22c94_e961_11eb_82c4_00163ed6b338row1_col4 {\n            background-color:  #4961d2;\n            color:  #f1f1f1;\n        }    #T_dbb22c94_e961_11eb_82c4_00163ed6b338row1_col5 {\n            background-color:  #3b4cc0;\n            color:  #f1f1f1;\n        }    #T_dbb22c94_e961_11eb_82c4_00163ed6b338row1_col6 {\n            background-color:  #445acc;\n            color:  #f1f1f1;\n        }    #T_dbb22c94_e961_11eb_82c4_00163ed6b338row1_col7 {\n            background-color:  #3e51c5;\n            color:  #f1f1f1;\n        }    #T_dbb22c94_e961_11eb_82c4_00163ed6b338row1_col8 {\n            background-color:  #4055c8;\n            color:  #f1f1f1;\n        }    #T_dbb22c94_e961_11eb_82c4_00163ed6b338row1_col9 {\n            background-color:  #3f53c6;\n            color:  #f1f1f1;\n        }    #T_dbb22c94_e961_11eb_82c4_00163ed6b338row2_col0 {\n            background-color:  #3b4cc0;\n            color:  #f1f1f1;\n        }    #T_dbb22c94_e961_11eb_82c4_00163ed6b338row2_col1 {\n            background-color:  #465ecf;\n            color:  #f1f1f1;\n        }    #T_dbb22c94_e961_11eb_82c4_00163ed6b338row2_col2 {\n            background-color:  #b40426;\n            color:  #f1f1f1;\n        }    #T_dbb22c94_e961_11eb_82c4_00163ed6b338row2_col3 {\n            background-color:  #3b4cc0;\n            color:  #f1f1f1;\n        }    #T_dbb22c94_e961_11eb_82c4_00163ed6b338row2_col4 {\n            background-color:  #3b4cc0;\n            color:  #f1f1f1;\n        }    #T_dbb22c94_e961_11eb_82c4_00163ed6b338row2_col5 {\n            background-color:  #455cce;\n            color:  #f1f1f1;\n        }    #T_dbb22c94_e961_11eb_82c4_00163ed6b338row2_col6 {\n            background-color:  #465ecf;\n            color:  #f1f1f1;\n        }    #T_dbb22c94_e961_11eb_82c4_00163ed6b338row2_col7 {\n            background-color:  #3f53c6;\n            color:  #f1f1f1;\n        }    #T_dbb22c94_e961_11eb_82c4_00163ed6b338row2_col8 {\n            background-color:  #4a63d3;\n            color:  #f1f1f1;\n        }    #T_dbb22c94_e961_11eb_82c4_00163ed6b338row2_col9 {\n            background-color:  #4c66d6;\n            color:  #000000;\n        }    #T_dbb22c94_e961_11eb_82c4_00163ed6b338row3_col0 {\n            background-color:  #485fd1;\n            color:  #f1f1f1;\n        }    #T_dbb22c94_e961_11eb_82c4_00163ed6b338row3_col1 {\n            background-color:  #4b64d5;\n            color:  #f1f1f1;\n        }    #T_dbb22c94_e961_11eb_82c4_00163ed6b338row3_col2 {\n            background-color:  #4f69d9;\n            color:  #000000;\n        }    #T_dbb22c94_e961_11eb_82c4_00163ed6b338row3_col3 {\n            background-color:  #b40426;\n            color:  #f1f1f1;\n        }    #T_dbb22c94_e961_11eb_82c4_00163ed6b338row3_col4 {\n            background-color:  #6a8bef;\n            color:  #000000;\n        }    #T_dbb22c94_e961_11eb_82c4_00163ed6b338row3_col5 {\n            background-color:  #3b4cc0;\n            color:  #f1f1f1;\n        }    #T_dbb22c94_e961_11eb_82c4_00163ed6b338row3_col6 {\n            background-color:  #3f53c6;\n            color:  #f1f1f1;\n        }    #T_dbb22c94_e961_11eb_82c4_00163ed6b338row3_col7 {\n            background-color:  #465ecf;\n            color:  #f1f1f1;\n        }    #T_dbb22c94_e961_11eb_82c4_00163ed6b338row3_col8 {\n            background-color:  #455cce;\n            color:  #f1f1f1;\n        }    #T_dbb22c94_e961_11eb_82c4_00163ed6b338row3_col9 {\n            background-color:  #4a63d3;\n            color:  #f1f1f1;\n        }    #T_dbb22c94_e961_11eb_82c4_00163ed6b338row4_col0 {\n            background-color:  #5572df;\n            color:  #000000;\n        }    #T_dbb22c94_e961_11eb_82c4_00163ed6b338row4_col1 {\n            background-color:  #3b4cc0;\n            color:  #f1f1f1;\n        }    #T_dbb22c94_e961_11eb_82c4_00163ed6b338row4_col2 {\n            background-color:  #3b4cc0;\n            color:  #f1f1f1;\n        }    #T_dbb22c94_e961_11eb_82c4_00163ed6b338row4_col3 {\n            background-color:  #5572df;\n            color:  #000000;\n        }    #T_dbb22c94_e961_11eb_82c4_00163ed6b338row4_col4 {\n            background-color:  #b40426;\n            color:  #f1f1f1;\n        }    #T_dbb22c94_e961_11eb_82c4_00163ed6b338row4_col5 {\n            background-color:  #3d50c3;\n            color:  #f1f1f1;\n        }    #T_dbb22c94_e961_11eb_82c4_00163ed6b338row4_col6 {\n            background-color:  #4b64d5;\n            color:  #f1f1f1;\n        }    #T_dbb22c94_e961_11eb_82c4_00163ed6b338row4_col7 {\n            background-color:  #3b4cc0;\n            color:  #f1f1f1;\n        }    #T_dbb22c94_e961_11eb_82c4_00163ed6b338row4_col8 {\n            background-color:  #4257c9;\n            color:  #f1f1f1;\n        }    #T_dbb22c94_e961_11eb_82c4_00163ed6b338row4_col9 {\n            background-color:  #3b4cc0;\n            color:  #f1f1f1;\n        }    #T_dbb22c94_e961_11eb_82c4_00163ed6b338row5_col0 {\n            background-color:  #5673e0;\n            color:  #000000;\n        }    #T_dbb22c94_e961_11eb_82c4_00163ed6b338row5_col1 {\n            background-color:  #4e68d8;\n            color:  #000000;\n        }    #T_dbb22c94_e961_11eb_82c4_00163ed6b338row5_col2 {\n            background-color:  #6788ee;\n            color:  #000000;\n        }    #T_dbb22c94_e961_11eb_82c4_00163ed6b338row5_col3 {\n            background-color:  #485fd1;\n            color:  #f1f1f1;\n        }    #T_dbb22c94_e961_11eb_82c4_00163ed6b338row5_col4 {\n            background-color:  #5f7fe8;\n            color:  #000000;\n        }    #T_dbb22c94_e961_11eb_82c4_00163ed6b338row5_col5 {\n            background-color:  #b40426;\n            color:  #f1f1f1;\n        }    #T_dbb22c94_e961_11eb_82c4_00163ed6b338row5_col6 {\n            background-color:  #4961d2;\n            color:  #f1f1f1;\n        }    #T_dbb22c94_e961_11eb_82c4_00163ed6b338row5_col7 {\n            background-color:  #4257c9;\n            color:  #f1f1f1;\n        }    #T_dbb22c94_e961_11eb_82c4_00163ed6b338row5_col8 {\n            background-color:  #465ecf;\n            color:  #f1f1f1;\n        }    #T_dbb22c94_e961_11eb_82c4_00163ed6b338row5_col9 {\n            background-color:  #4055c8;\n            color:  #f1f1f1;\n        }    #T_dbb22c94_e961_11eb_82c4_00163ed6b338row6_col0 {\n            background-color:  #5d7ce6;\n            color:  #000000;\n        }    #T_dbb22c94_e961_11eb_82c4_00163ed6b338row6_col1 {\n            background-color:  #5572df;\n            color:  #000000;\n        }    #T_dbb22c94_e961_11eb_82c4_00163ed6b338row6_col2 {\n            background-color:  #6687ed;\n            color:  #000000;\n        }    #T_dbb22c94_e961_11eb_82c4_00163ed6b338row6_col3 {\n            background-color:  #4a63d3;\n            color:  #f1f1f1;\n        }    #T_dbb22c94_e961_11eb_82c4_00163ed6b338row6_col4 {\n            background-color:  #6b8df0;\n            color:  #000000;\n        }    #T_dbb22c94_e961_11eb_82c4_00163ed6b338row6_col5 {\n            background-color:  #485fd1;\n            color:  #f1f1f1;\n        }    #T_dbb22c94_e961_11eb_82c4_00163ed6b338row6_col6 {\n            background-color:  #b40426;\n            color:  #f1f1f1;\n        }    #T_dbb22c94_e961_11eb_82c4_00163ed6b338row6_col7 {\n            background-color:  #3e51c5;\n            color:  #f1f1f1;\n        }    #T_dbb22c94_e961_11eb_82c4_00163ed6b338row6_col8 {\n            background-color:  #3d50c3;\n            color:  #f1f1f1;\n        }    #T_dbb22c94_e961_11eb_82c4_00163ed6b338row6_col9 {\n            background-color:  #3b4cc0;\n            color:  #f1f1f1;\n        }    #T_dbb22c94_e961_11eb_82c4_00163ed6b338row7_col0 {\n            background-color:  #536edd;\n            color:  #000000;\n        }    #T_dbb22c94_e961_11eb_82c4_00163ed6b338row7_col1 {\n            background-color:  #506bda;\n            color:  #000000;\n        }    #T_dbb22c94_e961_11eb_82c4_00163ed6b338row7_col2 {\n            background-color:  #6180e9;\n            color:  #000000;\n        }    #T_dbb22c94_e961_11eb_82c4_00163ed6b338row7_col3 {\n            background-color:  #536edd;\n            color:  #000000;\n        }    #T_dbb22c94_e961_11eb_82c4_00163ed6b338row7_col4 {\n            background-color:  #5b7ae5;\n            color:  #000000;\n        }    #T_dbb22c94_e961_11eb_82c4_00163ed6b338row7_col5 {\n            background-color:  #4257c9;\n            color:  #f1f1f1;\n        }    #T_dbb22c94_e961_11eb_82c4_00163ed6b338row7_col6 {\n            background-color:  #3f53c6;\n            color:  #f1f1f1;\n        }    #T_dbb22c94_e961_11eb_82c4_00163ed6b338row7_col7 {\n            background-color:  #b40426;\n            color:  #f1f1f1;\n        }    #T_dbb22c94_e961_11eb_82c4_00163ed6b338row7_col8 {\n            background-color:  #3e51c5;\n            color:  #f1f1f1;\n        }    #T_dbb22c94_e961_11eb_82c4_00163ed6b338row7_col9 {\n            background-color:  #455cce;\n            color:  #f1f1f1;\n        }    #T_dbb22c94_e961_11eb_82c4_00163ed6b338row8_col0 {\n            background-color:  #465ecf;\n            color:  #f1f1f1;\n        }    #T_dbb22c94_e961_11eb_82c4_00163ed6b338row8_col1 {\n            background-color:  #506bda;\n            color:  #000000;\n        }    #T_dbb22c94_e961_11eb_82c4_00163ed6b338row8_col2 {\n            background-color:  #688aef;\n            color:  #000000;\n        }    #T_dbb22c94_e961_11eb_82c4_00163ed6b338row8_col3 {\n            background-color:  #4f69d9;\n            color:  #000000;\n        }    #T_dbb22c94_e961_11eb_82c4_00163ed6b338row8_col4 {\n            background-color:  #6180e9;\n            color:  #000000;\n        }    #T_dbb22c94_e961_11eb_82c4_00163ed6b338row8_col5 {\n            background-color:  #4358cb;\n            color:  #f1f1f1;\n        }    #T_dbb22c94_e961_11eb_82c4_00163ed6b338row8_col6 {\n            background-color:  #3b4cc0;\n            color:  #f1f1f1;\n        }    #T_dbb22c94_e961_11eb_82c4_00163ed6b338row8_col7 {\n            background-color:  #3c4ec2;\n            color:  #f1f1f1;\n        }    #T_dbb22c94_e961_11eb_82c4_00163ed6b338row8_col8 {\n            background-color:  #b40426;\n            color:  #f1f1f1;\n        }    #T_dbb22c94_e961_11eb_82c4_00163ed6b338row8_col9 {\n            background-color:  #4358cb;\n            color:  #f1f1f1;\n        }    #T_dbb22c94_e961_11eb_82c4_00163ed6b338row9_col0 {\n            background-color:  #506bda;\n            color:  #000000;\n        }    #T_dbb22c94_e961_11eb_82c4_00163ed6b338row9_col1 {\n            background-color:  #506bda;\n            color:  #000000;\n        }    #T_dbb22c94_e961_11eb_82c4_00163ed6b338row9_col2 {\n            background-color:  #6c8ff1;\n            color:  #000000;\n        }    #T_dbb22c94_e961_11eb_82c4_00163ed6b338row9_col3 {\n            background-color:  #5572df;\n            color:  #000000;\n        }    #T_dbb22c94_e961_11eb_82c4_00163ed6b338row9_col4 {\n            background-color:  #5b7ae5;\n            color:  #000000;\n        }    #T_dbb22c94_e961_11eb_82c4_00163ed6b338row9_col5 {\n            background-color:  #3e51c5;\n            color:  #f1f1f1;\n        }    #T_dbb22c94_e961_11eb_82c4_00163ed6b338row9_col6 {\n            background-color:  #3b4cc0;\n            color:  #f1f1f1;\n        }    #T_dbb22c94_e961_11eb_82c4_00163ed6b338row9_col7 {\n            background-color:  #445acc;\n            color:  #f1f1f1;\n        }    #T_dbb22c94_e961_11eb_82c4_00163ed6b338row9_col8 {\n            background-color:  #455cce;\n            color:  #f1f1f1;\n        }    #T_dbb22c94_e961_11eb_82c4_00163ed6b338row9_col9 {\n            background-color:  #b40426;\n            color:  #f1f1f1;\n        }</style><table id=\"T_dbb22c94_e961_11eb_82c4_00163ed6b338\" ><thead>    <tr>        <th class=\"blank level0\" ></th>        <th class=\"col_heading level0 col0\" >ph</th>        <th class=\"col_heading level0 col1\" >Hardness</th>        <th class=\"col_heading level0 col2\" >Solids</th>        <th class=\"col_heading level0 col3\" >Chloramines</th>        <th class=\"col_heading level0 col4\" >Sulfate</th>        <th class=\"col_heading level0 col5\" >Conductivity</th>        <th class=\"col_heading level0 col6\" >Organic_carbon</th>        <th class=\"col_heading level0 col7\" >Trihalomethanes</th>        <th class=\"col_heading level0 col8\" >Turbidity</th>        <th class=\"col_heading level0 col9\" >Potability</th>    </tr></thead><tbody>\n                <tr>\n                        <th id=\"T_dbb22c94_e961_11eb_82c4_00163ed6b338level0_row0\" class=\"row_heading level0 row0\" >ph</th>\n                        <td id=\"T_dbb22c94_e961_11eb_82c4_00163ed6b338row0_col0\" class=\"data row0 col0\" >1.000000</td>\n                        <td id=\"T_dbb22c94_e961_11eb_82c4_00163ed6b338row0_col1\" class=\"data row0 col1\" >0.075878</td>\n                        <td id=\"T_dbb22c94_e961_11eb_82c4_00163ed6b338row0_col2\" class=\"data row0 col2\" >-0.081887</td>\n                        <td id=\"T_dbb22c94_e961_11eb_82c4_00163ed6b338row0_col3\" class=\"data row0 col3\" >-0.031827</td>\n                        <td id=\"T_dbb22c94_e961_11eb_82c4_00163ed6b338row0_col4\" class=\"data row0 col4\" >0.014785</td>\n                        <td id=\"T_dbb22c94_e961_11eb_82c4_00163ed6b338row0_col5\" class=\"data row0 col5\" >0.017205</td>\n                        <td id=\"T_dbb22c94_e961_11eb_82c4_00163ed6b338row0_col6\" class=\"data row0 col6\" >0.040092</td>\n                        <td id=\"T_dbb22c94_e961_11eb_82c4_00163ed6b338row0_col7\" class=\"data row0 col7\" >0.003009</td>\n                        <td id=\"T_dbb22c94_e961_11eb_82c4_00163ed6b338row0_col8\" class=\"data row0 col8\" >-0.036211</td>\n                        <td id=\"T_dbb22c94_e961_11eb_82c4_00163ed6b338row0_col9\" class=\"data row0 col9\" >-0.003848</td>\n            </tr>\n            <tr>\n                        <th id=\"T_dbb22c94_e961_11eb_82c4_00163ed6b338level0_row1\" class=\"row_heading level0 row1\" >Hardness</th>\n                        <td id=\"T_dbb22c94_e961_11eb_82c4_00163ed6b338row1_col0\" class=\"data row1 col0\" >0.075878</td>\n                        <td id=\"T_dbb22c94_e961_11eb_82c4_00163ed6b338row1_col1\" class=\"data row1 col1\" >1.000000</td>\n                        <td id=\"T_dbb22c94_e961_11eb_82c4_00163ed6b338row1_col2\" class=\"data row1 col2\" >-0.046899</td>\n                        <td id=\"T_dbb22c94_e961_11eb_82c4_00163ed6b338row1_col3\" class=\"data row1 col3\" >-0.030054</td>\n                        <td id=\"T_dbb22c94_e961_11eb_82c4_00163ed6b338row1_col4\" class=\"data row1 col4\" >-0.092718</td>\n                        <td id=\"T_dbb22c94_e961_11eb_82c4_00163ed6b338row1_col5\" class=\"data row1 col5\" >-0.023915</td>\n                        <td id=\"T_dbb22c94_e961_11eb_82c4_00163ed6b338row1_col6\" class=\"data row1 col6\" >0.003610</td>\n                        <td id=\"T_dbb22c94_e961_11eb_82c4_00163ed6b338row1_col7\" class=\"data row1 col7\" >-0.012718</td>\n                        <td id=\"T_dbb22c94_e961_11eb_82c4_00163ed6b338row1_col8\" class=\"data row1 col8\" >-0.014449</td>\n                        <td id=\"T_dbb22c94_e961_11eb_82c4_00163ed6b338row1_col9\" class=\"data row1 col9\" >-0.013837</td>\n            </tr>\n            <tr>\n                        <th id=\"T_dbb22c94_e961_11eb_82c4_00163ed6b338level0_row2\" class=\"row_heading level0 row2\" >Solids</th>\n                        <td id=\"T_dbb22c94_e961_11eb_82c4_00163ed6b338row2_col0\" class=\"data row2 col0\" >-0.081887</td>\n                        <td id=\"T_dbb22c94_e961_11eb_82c4_00163ed6b338row2_col1\" class=\"data row2 col1\" >-0.046899</td>\n                        <td id=\"T_dbb22c94_e961_11eb_82c4_00163ed6b338row2_col2\" class=\"data row2 col2\" >1.000000</td>\n                        <td id=\"T_dbb22c94_e961_11eb_82c4_00163ed6b338row2_col3\" class=\"data row2 col3\" >-0.070148</td>\n                        <td id=\"T_dbb22c94_e961_11eb_82c4_00163ed6b338row2_col4\" class=\"data row2 col4\" >-0.149809</td>\n                        <td id=\"T_dbb22c94_e961_11eb_82c4_00163ed6b338row2_col5\" class=\"data row2 col5\" >0.013831</td>\n                        <td id=\"T_dbb22c94_e961_11eb_82c4_00163ed6b338row2_col6\" class=\"data row2 col6\" >0.010242</td>\n                        <td id=\"T_dbb22c94_e961_11eb_82c4_00163ed6b338row2_col7\" class=\"data row2 col7\" >-0.008849</td>\n                        <td id=\"T_dbb22c94_e961_11eb_82c4_00163ed6b338row2_col8\" class=\"data row2 col8\" >0.019546</td>\n                        <td id=\"T_dbb22c94_e961_11eb_82c4_00163ed6b338row2_col9\" class=\"data row2 col9\" >0.033743</td>\n            </tr>\n            <tr>\n                        <th id=\"T_dbb22c94_e961_11eb_82c4_00163ed6b338level0_row3\" class=\"row_heading level0 row3\" >Chloramines</th>\n                        <td id=\"T_dbb22c94_e961_11eb_82c4_00163ed6b338row3_col0\" class=\"data row3 col0\" >-0.031827</td>\n                        <td id=\"T_dbb22c94_e961_11eb_82c4_00163ed6b338row3_col1\" class=\"data row3 col1\" >-0.030054</td>\n                        <td id=\"T_dbb22c94_e961_11eb_82c4_00163ed6b338row3_col2\" class=\"data row3 col2\" >-0.070148</td>\n                        <td id=\"T_dbb22c94_e961_11eb_82c4_00163ed6b338row3_col3\" class=\"data row3 col3\" >1.000000</td>\n                        <td id=\"T_dbb22c94_e961_11eb_82c4_00163ed6b338row3_col4\" class=\"data row3 col4\" >0.023490</td>\n                        <td id=\"T_dbb22c94_e961_11eb_82c4_00163ed6b338row3_col5\" class=\"data row3 col5\" >-0.020486</td>\n                        <td id=\"T_dbb22c94_e961_11eb_82c4_00163ed6b338row3_col6\" class=\"data row3 col6\" >-0.012653</td>\n                        <td id=\"T_dbb22c94_e961_11eb_82c4_00163ed6b338row3_col7\" class=\"data row3 col7\" >0.016615</td>\n                        <td id=\"T_dbb22c94_e961_11eb_82c4_00163ed6b338row3_col8\" class=\"data row3 col8\" >0.002363</td>\n                        <td id=\"T_dbb22c94_e961_11eb_82c4_00163ed6b338row3_col9\" class=\"data row3 col9\" >0.023779</td>\n            </tr>\n            <tr>\n                        <th id=\"T_dbb22c94_e961_11eb_82c4_00163ed6b338level0_row4\" class=\"row_heading level0 row4\" >Sulfate</th>\n                        <td id=\"T_dbb22c94_e961_11eb_82c4_00163ed6b338row4_col0\" class=\"data row4 col0\" >0.014785</td>\n                        <td id=\"T_dbb22c94_e961_11eb_82c4_00163ed6b338row4_col1\" class=\"data row4 col1\" >-0.092718</td>\n                        <td id=\"T_dbb22c94_e961_11eb_82c4_00163ed6b338row4_col2\" class=\"data row4 col2\" >-0.149809</td>\n                        <td id=\"T_dbb22c94_e961_11eb_82c4_00163ed6b338row4_col3\" class=\"data row4 col3\" >0.023490</td>\n                        <td id=\"T_dbb22c94_e961_11eb_82c4_00163ed6b338row4_col4\" class=\"data row4 col4\" >1.000000</td>\n                        <td id=\"T_dbb22c94_e961_11eb_82c4_00163ed6b338row4_col5\" class=\"data row4 col5\" >-0.014196</td>\n                        <td id=\"T_dbb22c94_e961_11eb_82c4_00163ed6b338row4_col6\" class=\"data row4 col6\" >0.027403</td>\n                        <td id=\"T_dbb22c94_e961_11eb_82c4_00163ed6b338row4_col7\" class=\"data row4 col7\" >-0.025797</td>\n                        <td id=\"T_dbb22c94_e961_11eb_82c4_00163ed6b338row4_col8\" class=\"data row4 col8\" >-0.009523</td>\n                        <td id=\"T_dbb22c94_e961_11eb_82c4_00163ed6b338row4_col9\" class=\"data row4 col9\" >-0.026957</td>\n            </tr>\n            <tr>\n                        <th id=\"T_dbb22c94_e961_11eb_82c4_00163ed6b338level0_row5\" class=\"row_heading level0 row5\" >Conductivity</th>\n                        <td id=\"T_dbb22c94_e961_11eb_82c4_00163ed6b338row5_col0\" class=\"data row5 col0\" >0.017205</td>\n                        <td id=\"T_dbb22c94_e961_11eb_82c4_00163ed6b338row5_col1\" class=\"data row5 col1\" >-0.023915</td>\n                        <td id=\"T_dbb22c94_e961_11eb_82c4_00163ed6b338row5_col2\" class=\"data row5 col2\" >0.013831</td>\n                        <td id=\"T_dbb22c94_e961_11eb_82c4_00163ed6b338row5_col3\" class=\"data row5 col3\" >-0.020486</td>\n                        <td id=\"T_dbb22c94_e961_11eb_82c4_00163ed6b338row5_col4\" class=\"data row5 col4\" >-0.014196</td>\n                        <td id=\"T_dbb22c94_e961_11eb_82c4_00163ed6b338row5_col5\" class=\"data row5 col5\" >1.000000</td>\n                        <td id=\"T_dbb22c94_e961_11eb_82c4_00163ed6b338row5_col6\" class=\"data row5 col6\" >0.020966</td>\n                        <td id=\"T_dbb22c94_e961_11eb_82c4_00163ed6b338row5_col7\" class=\"data row5 col7\" >0.001238</td>\n                        <td id=\"T_dbb22c94_e961_11eb_82c4_00163ed6b338row5_col8\" class=\"data row5 col8\" >0.005798</td>\n                        <td id=\"T_dbb22c94_e961_11eb_82c4_00163ed6b338row5_col9\" class=\"data row5 col9\" >-0.008128</td>\n            </tr>\n            <tr>\n                        <th id=\"T_dbb22c94_e961_11eb_82c4_00163ed6b338level0_row6\" class=\"row_heading level0 row6\" >Organic_carbon</th>\n                        <td id=\"T_dbb22c94_e961_11eb_82c4_00163ed6b338row6_col0\" class=\"data row6 col0\" >0.040092</td>\n                        <td id=\"T_dbb22c94_e961_11eb_82c4_00163ed6b338row6_col1\" class=\"data row6 col1\" >0.003610</td>\n                        <td id=\"T_dbb22c94_e961_11eb_82c4_00163ed6b338row6_col2\" class=\"data row6 col2\" >0.010242</td>\n                        <td id=\"T_dbb22c94_e961_11eb_82c4_00163ed6b338row6_col3\" class=\"data row6 col3\" >-0.012653</td>\n                        <td id=\"T_dbb22c94_e961_11eb_82c4_00163ed6b338row6_col4\" class=\"data row6 col4\" >0.027403</td>\n                        <td id=\"T_dbb22c94_e961_11eb_82c4_00163ed6b338row6_col5\" class=\"data row6 col5\" >0.020966</td>\n                        <td id=\"T_dbb22c94_e961_11eb_82c4_00163ed6b338row6_col6\" class=\"data row6 col6\" >1.000000</td>\n                        <td id=\"T_dbb22c94_e961_11eb_82c4_00163ed6b338row6_col7\" class=\"data row6 col7\" >-0.012944</td>\n                        <td id=\"T_dbb22c94_e961_11eb_82c4_00163ed6b338row6_col8\" class=\"data row6 col8\" >-0.027308</td>\n                        <td id=\"T_dbb22c94_e961_11eb_82c4_00163ed6b338row6_col9\" class=\"data row6 col9\" >-0.030001</td>\n            </tr>\n            <tr>\n                        <th id=\"T_dbb22c94_e961_11eb_82c4_00163ed6b338level0_row7\" class=\"row_heading level0 row7\" >Trihalomethanes</th>\n                        <td id=\"T_dbb22c94_e961_11eb_82c4_00163ed6b338row7_col0\" class=\"data row7 col0\" >0.003009</td>\n                        <td id=\"T_dbb22c94_e961_11eb_82c4_00163ed6b338row7_col1\" class=\"data row7 col1\" >-0.012718</td>\n                        <td id=\"T_dbb22c94_e961_11eb_82c4_00163ed6b338row7_col2\" class=\"data row7 col2\" >-0.008849</td>\n                        <td id=\"T_dbb22c94_e961_11eb_82c4_00163ed6b338row7_col3\" class=\"data row7 col3\" >0.016615</td>\n                        <td id=\"T_dbb22c94_e961_11eb_82c4_00163ed6b338row7_col4\" class=\"data row7 col4\" >-0.025797</td>\n                        <td id=\"T_dbb22c94_e961_11eb_82c4_00163ed6b338row7_col5\" class=\"data row7 col5\" >0.001238</td>\n                        <td id=\"T_dbb22c94_e961_11eb_82c4_00163ed6b338row7_col6\" class=\"data row7 col6\" >-0.012944</td>\n                        <td id=\"T_dbb22c94_e961_11eb_82c4_00163ed6b338row7_col7\" class=\"data row7 col7\" >1.000000</td>\n                        <td id=\"T_dbb22c94_e961_11eb_82c4_00163ed6b338row7_col8\" class=\"data row7 col8\" >-0.021540</td>\n                        <td id=\"T_dbb22c94_e961_11eb_82c4_00163ed6b338row7_col9\" class=\"data row7 col9\" >0.007305</td>\n            </tr>\n            <tr>\n                        <th id=\"T_dbb22c94_e961_11eb_82c4_00163ed6b338level0_row8\" class=\"row_heading level0 row8\" >Turbidity</th>\n                        <td id=\"T_dbb22c94_e961_11eb_82c4_00163ed6b338row8_col0\" class=\"data row8 col0\" >-0.036211</td>\n                        <td id=\"T_dbb22c94_e961_11eb_82c4_00163ed6b338row8_col1\" class=\"data row8 col1\" >-0.014449</td>\n                        <td id=\"T_dbb22c94_e961_11eb_82c4_00163ed6b338row8_col2\" class=\"data row8 col2\" >0.019546</td>\n                        <td id=\"T_dbb22c94_e961_11eb_82c4_00163ed6b338row8_col3\" class=\"data row8 col3\" >0.002363</td>\n                        <td id=\"T_dbb22c94_e961_11eb_82c4_00163ed6b338row8_col4\" class=\"data row8 col4\" >-0.009523</td>\n                        <td id=\"T_dbb22c94_e961_11eb_82c4_00163ed6b338row8_col5\" class=\"data row8 col5\" >0.005798</td>\n                        <td id=\"T_dbb22c94_e961_11eb_82c4_00163ed6b338row8_col6\" class=\"data row8 col6\" >-0.027308</td>\n                        <td id=\"T_dbb22c94_e961_11eb_82c4_00163ed6b338row8_col7\" class=\"data row8 col7\" >-0.021540</td>\n                        <td id=\"T_dbb22c94_e961_11eb_82c4_00163ed6b338row8_col8\" class=\"data row8 col8\" >1.000000</td>\n                        <td id=\"T_dbb22c94_e961_11eb_82c4_00163ed6b338row8_col9\" class=\"data row8 col9\" >0.001581</td>\n            </tr>\n            <tr>\n                        <th id=\"T_dbb22c94_e961_11eb_82c4_00163ed6b338level0_row9\" class=\"row_heading level0 row9\" >Potability</th>\n                        <td id=\"T_dbb22c94_e961_11eb_82c4_00163ed6b338row9_col0\" class=\"data row9 col0\" >-0.003848</td>\n                        <td id=\"T_dbb22c94_e961_11eb_82c4_00163ed6b338row9_col1\" class=\"data row9 col1\" >-0.013837</td>\n                        <td id=\"T_dbb22c94_e961_11eb_82c4_00163ed6b338row9_col2\" class=\"data row9 col2\" >0.033743</td>\n                        <td id=\"T_dbb22c94_e961_11eb_82c4_00163ed6b338row9_col3\" class=\"data row9 col3\" >0.023779</td>\n                        <td id=\"T_dbb22c94_e961_11eb_82c4_00163ed6b338row9_col4\" class=\"data row9 col4\" >-0.026957</td>\n                        <td id=\"T_dbb22c94_e961_11eb_82c4_00163ed6b338row9_col5\" class=\"data row9 col5\" >-0.008128</td>\n                        <td id=\"T_dbb22c94_e961_11eb_82c4_00163ed6b338row9_col6\" class=\"data row9 col6\" >-0.030001</td>\n                        <td id=\"T_dbb22c94_e961_11eb_82c4_00163ed6b338row9_col7\" class=\"data row9 col7\" >0.007305</td>\n                        <td id=\"T_dbb22c94_e961_11eb_82c4_00163ed6b338row9_col8\" class=\"data row9 col8\" >0.001581</td>\n                        <td id=\"T_dbb22c94_e961_11eb_82c4_00163ed6b338row9_col9\" class=\"data row9 col9\" >1.000000</td>\n            </tr>\n    </tbody></table>",
       "datasetInfos": [],
       "metadata": {},
       "removedWidgets": [],
       "textData": "<div class=\"ansiout\">Out[76]: </div>",
       "type": "htmlSandbox"
      }
     },
     "output_type": "display_data"
    }
   ],
   "source": [
    "data.corr().style.background_gradient(cmap='coolwarm')"
   ]
  },
  {
   "cell_type": "code",
   "execution_count": null,
   "metadata": {
    "application/vnd.databricks.v1+cell": {
     "inputWidgets": {},
     "nuid": "c6678423-e02b-4c01-8e74-258dabde33ff",
     "showTitle": true,
     "title": "Check balance"
    }
   },
   "outputs": [
    {
     "data": {
      "image/png": "[encoded data removed]"
     },
     "metadata": {
      "application/vnd.databricks.v1+output": {
       "addedWidgets": {},
       "arguments": {},
       "data": "/plots/b7abcdd1-d3b2-4375-81e4-aa3bd6e93c98.png",
       "datasetInfos": [],
       "metadata": {},
       "removedWidgets": [],
       "type": "image"
      }
     },
     "output_type": "display_data"
    }
   ],
   "source": [
    "data['Potability'].hist()"
   ]
  },
  {
   "cell_type": "code",
   "execution_count": null,
   "metadata": {
    "application/vnd.databricks.v1+cell": {
     "inputWidgets": {},
     "nuid": "28c078dd-4c06-4a5f-ac8a-66db7cfe88c8",
     "showTitle": true,
     "title": "Undersampling"
    }
   },
   "outputs": [
    {
     "data": {
      "text/html": [
       "<style scoped>\n",
       "  .ansiout {\n",
       "    display: block;\n",
       "    unicode-bidi: embed;\n",
       "    white-space: pre-wrap;\n",
       "    word-wrap: break-word;\n",
       "    word-break: break-all;\n",
       "    font-family: \"Source Code Pro\", \"Menlo\", monospace;;\n",
       "    font-size: 13px;\n",
       "    color: #555;\n",
       "    margin-left: 4px;\n",
       "    line-height: 19px;\n",
       "  }\n",
       "</style>\n",
       "<div class=\"ansiout\"></div>"
      ]
     },
     "metadata": {
      "application/vnd.databricks.v1+output": {
       "addedWidgets": {},
       "arguments": {},
       "data": "<div class=\"ansiout\"></div>",
       "datasetInfos": [],
       "metadata": {},
       "removedWidgets": [],
       "type": "html"
      }
     },
     "output_type": "display_data"
    }
   ],
   "source": [
    "under = RandomUnderSampler(sampling_strategy=0.9)\n",
    "X, y = under.fit_resample(data.iloc[:,:-1], data.iloc[:,-1])"
   ]
  },
  {
   "cell_type": "markdown",
   "metadata": {
    "application/vnd.databricks.v1+cell": {
     "inputWidgets": {},
     "nuid": "a445069f-426b-4682-ad85-a5cfa9c47bef",
     "showTitle": false,
     "title": ""
    }
   },
   "source": [
    "# Let's train some models"
   ]
  },
  {
   "cell_type": "code",
   "execution_count": null,
   "metadata": {
    "application/vnd.databricks.v1+cell": {
     "inputWidgets": {},
     "nuid": "9230d83f-b109-4015-995c-0cdf28bce193",
     "showTitle": true,
     "title": "Standard scaler"
    }
   },
   "outputs": [
    {
     "data": {
      "text/html": [
       "<style scoped>\n",
       "  .ansiout {\n",
       "    display: block;\n",
       "    unicode-bidi: embed;\n",
       "    white-space: pre-wrap;\n",
       "    word-wrap: break-word;\n",
       "    word-break: break-all;\n",
       "    font-family: \"Source Code Pro\", \"Menlo\", monospace;;\n",
       "    font-size: 13px;\n",
       "    color: #555;\n",
       "    margin-left: 4px;\n",
       "    line-height: 19px;\n",
       "  }\n",
       "</style>\n",
       "<div class=\"ansiout\"></div>"
      ]
     },
     "metadata": {
      "application/vnd.databricks.v1+output": {
       "addedWidgets": {},
       "arguments": {},
       "data": "<div class=\"ansiout\"></div>",
       "datasetInfos": [],
       "metadata": {},
       "removedWidgets": [],
       "type": "html"
      }
     },
     "output_type": "display_data"
    }
   ],
   "source": [
    "## standard scaler\n",
    "scaler = StandardScaler()\n",
    "scaler.fit(X)\n",
    "X_scaled=scaler.transform(X)\n",
    "X_scaled_df = pd.DataFrame(X_scaled, columns=data.columns[:-1])"
   ]
  },
  {
   "cell_type": "code",
   "execution_count": null,
   "metadata": {
    "application/vnd.databricks.v1+cell": {
     "inputWidgets": {},
     "nuid": "ea75c9c3-3f85-4265-9539-dddb23b1c38a",
     "showTitle": true,
     "title": "Anova test to check  dependencies"
    }
   },
   "outputs": [
    {
     "data": {
      "text/html": [
       "<style scoped>\n",
       "  .ansiout {\n",
       "    display: block;\n",
       "    unicode-bidi: embed;\n",
       "    white-space: pre-wrap;\n",
       "    word-wrap: break-word;\n",
       "    word-break: break-all;\n",
       "    font-family: \"Source Code Pro\", \"Menlo\", monospace;;\n",
       "    font-size: 13px;\n",
       "    color: #555;\n",
       "    margin-left: 4px;\n",
       "    line-height: 19px;\n",
       "  }\n",
       "</style>\n",
       "<div class=\"ansiout\">Out[102]: [&#39;Solids&#39;, &#39;Organic_carbon&#39;, &#39;Chloramines&#39;, &#39;Hardness&#39;, &#39;Conductivity&#39;]</div>"
      ]
     },
     "metadata": {
      "application/vnd.databricks.v1+output": {
       "addedWidgets": {},
       "arguments": {},
       "data": "<div class=\"ansiout\">Out[102]: [&#39;Solids&#39;, &#39;Organic_carbon&#39;, &#39;Chloramines&#39;, &#39;Hardness&#39;, &#39;Conductivity&#39;]</div>",
       "datasetInfos": [],
       "metadata": {},
       "removedWidgets": [],
       "type": "html"
      }
     },
     "output_type": "display_data"
    }
   ],
   "source": [
    "# https://towardsdatascience.com/mistakes-in-applying-univariate-feature-selection-methods-34c43ce8b93d\n",
    "\n",
    "# Our features are continous\n",
    "# as our target is categorical we can perform a ANOVA Test to check an linear depencies between features and the target\n",
    "N_continuous = 5\n",
    "N_categorical = 5\n",
    "\n",
    "f_scores = f_classif(X_scaled_df.values,y)\n",
    "_, p = f_scores\n",
    "most_f = p.argsort()\n",
    "most_dependent_numerical_variables = [X_scaled_df.columns[element] for element in most_f[:N_continuous]]\n",
    "\n",
    "most_dependent_numerical_variables"
   ]
  },
  {
   "cell_type": "code",
   "execution_count": null,
   "metadata": {
    "application/vnd.databricks.v1+cell": {
     "inputWidgets": {},
     "nuid": "9b5c2864-0dd9-4195-9e5d-4a0e1caaf1fc",
     "showTitle": true,
     "title": "Logistic regression with features selected"
    }
   },
   "outputs": [
    {
     "data": {
      "text/html": [
       "<style scoped>\n",
       "  .ansiout {\n",
       "    display: block;\n",
       "    unicode-bidi: embed;\n",
       "    white-space: pre-wrap;\n",
       "    word-wrap: break-word;\n",
       "    word-break: break-all;\n",
       "    font-family: \"Source Code Pro\", \"Menlo\", monospace;;\n",
       "    font-size: 13px;\n",
       "    color: #555;\n",
       "    margin-left: 4px;\n",
       "    line-height: 19px;\n",
       "  }\n",
       "</style>\n",
       "<div class=\"ansiout\"></div>"
      ]
     },
     "metadata": {
      "application/vnd.databricks.v1+output": {
       "addedWidgets": {},
       "arguments": {},
       "data": "<div class=\"ansiout\"></div>",
       "datasetInfos": [],
       "metadata": {},
       "removedWidgets": [],
       "type": "html"
      }
     },
     "output_type": "display_data"
    }
   ],
   "source": [
    "### Select the most important features\n",
    "\n",
    "X_selected = X_scaled_df[most_dependent_numerical_variables]\n",
    "               \n",
    "X_train, X_test, y_train, y_test = sklearn.model_selection.train_test_split(\n",
    "  X_selected,\n",
    "  y,\n",
    "  test_size=0.2,\n",
    "  random_state=0\n",
    ")\n"
   ]
  },
  {
   "cell_type": "code",
   "execution_count": null,
   "metadata": {
    "application/vnd.databricks.v1+cell": {
     "inputWidgets": {},
     "nuid": "921d0ede-69e1-4dfa-9e12-a4f26bbacaa2",
     "showTitle": false,
     "title": ""
    }
   },
   "outputs": [
    {
     "data": {
      "text/html": [
       "<style scoped>\n",
       "  .ansiout {\n",
       "    display: block;\n",
       "    unicode-bidi: embed;\n",
       "    white-space: pre-wrap;\n",
       "    word-wrap: break-word;\n",
       "    word-break: break-all;\n",
       "    font-family: \"Source Code Pro\", \"Menlo\", monospace;;\n",
       "    font-size: 13px;\n",
       "    color: #555;\n",
       "    margin-left: 4px;\n",
       "    line-height: 19px;\n",
       "  }\n",
       "</style>\n",
       "<div class=\"ansiout\">Test AUC of: 0.5360288948014172\n",
       "</div>"
      ]
     },
     "metadata": {
      "application/vnd.databricks.v1+output": {
       "addedWidgets": {},
       "arguments": {},
       "data": "<div class=\"ansiout\">Test AUC of: 0.5360288948014172\n</div>",
       "datasetInfos": [],
       "metadata": {},
       "removedWidgets": [],
       "type": "html"
      }
     },
     "output_type": "display_data"
    }
   ],
   "source": [
    "with mlflow.start_run(run_name='logistic_regression') as run:\n",
    "  model = LogisticRegression(C=0.2, class_weight='None', penalty='l2',\n",
    "                   solver='saga',random_state=0)\n",
    "  \n",
    "  # Models, parameters, and training metrics are tracked automatically\n",
    "  model.fit(X_train, y_train)\n",
    "\n",
    "  predicted_probs = model.predict_proba(X_test)\n",
    "  roc_auc = sklearn.metrics.roc_auc_score(y_test, predicted_probs[:,1])\n",
    "  \n",
    "  # The AUC score on test data is not automatically logged, so log it manually\n",
    "  mlflow.log_metric(\"test_auc\", roc_auc)\n",
    "  print(\"Test AUC of: {}\".format(roc_auc))"
   ]
  },
  {
   "cell_type": "markdown",
   "metadata": {
    "application/vnd.databricks.v1+cell": {
     "inputWidgets": {},
     "nuid": "6540e6af-ea47-4aeb-acd0-e3a909cd3083",
     "showTitle": false,
     "title": ""
    }
   },
   "source": [
    "# Train LR model with MLflow (all features)"
   ]
  },
  {
   "cell_type": "code",
   "execution_count": null,
   "metadata": {
    "application/vnd.databricks.v1+cell": {
     "inputWidgets": {},
     "nuid": "f7927b1c-027a-44fa-878a-00e984d491d4",
     "showTitle": false,
     "title": ""
    }
   },
   "outputs": [
    {
     "data": {
      "text/html": [
       "<style scoped>\n",
       "  .ansiout {\n",
       "    display: block;\n",
       "    unicode-bidi: embed;\n",
       "    white-space: pre-wrap;\n",
       "    word-wrap: break-word;\n",
       "    word-break: break-all;\n",
       "    font-family: \"Source Code Pro\", \"Menlo\", monospace;;\n",
       "    font-size: 13px;\n",
       "    color: #555;\n",
       "    margin-left: 4px;\n",
       "    line-height: 19px;\n",
       "  }\n",
       "</style>"
      ]
     },
     "metadata": {
      "application/vnd.databricks.v1+output": {
       "arguments": {},
       "data": "",
       "errorSummary": "",
       "errorTraceType": null,
       "metadata": {},
       "type": "ipynbError"
      }
     },
     "output_type": "display_data"
    }
   ],
   "source": [
    "X_train, X_test, y_train, y_test = sklearn.model_selection.train_test_split(\n",
    "  X_selected,\n",
    "  y,\n",
    "  test_size=0.2,\n",
    "  random_state=0\n",
    ")"
   ]
  },
  {
   "cell_type": "code",
   "execution_count": null,
   "metadata": {
    "application/vnd.databricks.v1+cell": {
     "inputWidgets": {},
     "nuid": "3b5c1c68-0b7b-49c2-accb-be44d4ce47a4",
     "showTitle": false,
     "title": ""
    }
   },
   "outputs": [
    {
     "data": {
      "text/html": [
       "<style scoped>\n",
       "  .ansiout {\n",
       "    display: block;\n",
       "    unicode-bidi: embed;\n",
       "    white-space: pre-wrap;\n",
       "    word-wrap: break-word;\n",
       "    word-break: break-all;\n",
       "    font-family: \"Source Code Pro\", \"Menlo\", monospace;;\n",
       "    font-size: 13px;\n",
       "    color: #555;\n",
       "    margin-left: 4px;\n",
       "    line-height: 19px;\n",
       "  }\n",
       "</style>\n",
       "<div class=\"ansiout\">Test AUC of: 0.5173447360822758\n",
       "</div>"
      ]
     },
     "metadata": {
      "application/vnd.databricks.v1+output": {
       "addedWidgets": {},
       "arguments": {},
       "data": "<div class=\"ansiout\">Test AUC of: 0.5173447360822758\n</div>",
       "datasetInfos": [],
       "metadata": {},
       "removedWidgets": [],
       "type": "html"
      }
     },
     "output_type": "display_data"
    }
   ],
   "source": [
    "with mlflow.start_run(run_name='logistic_regression') as run:\n",
    "  model =LogisticRegression(random_state=0)\n",
    "  \n",
    "  # Models, parameters, and training metrics are tracked automatically\n",
    "  model.fit(X_train, y_train)\n",
    "\n",
    "  predicted_probs = model.predict_proba(X_test)\n",
    "  roc_auc = sklearn.metrics.roc_auc_score(y_test, predicted_probs[:,1])\n",
    "  \n",
    "  # The AUC score on test data is not automatically logged, so log it manually\n",
    "  mlflow.log_metric(\"test_auc\", roc_auc)\n",
    "  print(\"Test AUC of: {}\".format(roc_auc))"
   ]
  },
  {
   "cell_type": "markdown",
   "metadata": {
    "application/vnd.databricks.v1+cell": {
     "inputWidgets": {},
     "nuid": "a5b1772b-c4a7-4ef8-91b0-c0056b6e9a1c",
     "showTitle": false,
     "title": ""
    }
   },
   "source": [
    "### GreadSearch+Logistic Regression"
   ]
  },
  {
   "cell_type": "code",
   "execution_count": null,
   "metadata": {
    "application/vnd.databricks.v1+cell": {
     "inputWidgets": {},
     "nuid": "95a49684-4f2b-4e17-93c5-335c610ffd02",
     "showTitle": false,
     "title": ""
    }
   },
   "outputs": [
    {
     "data": {
      "text/html": [
       "<style scoped>\n",
       "  .ansiout {\n",
       "    display: block;\n",
       "    unicode-bidi: embed;\n",
       "    white-space: pre-wrap;\n",
       "    word-wrap: break-word;\n",
       "    word-break: break-all;\n",
       "    font-family: \"Source Code Pro\", \"Menlo\", monospace;;\n",
       "    font-size: 13px;\n",
       "    color: #555;\n",
       "    margin-left: 4px;\n",
       "    line-height: 19px;\n",
       "  }\n",
       "</style>\n",
       "<div class=\"ansiout\">Out[81]: LogisticRegression(C=0.1, class_weight=&#39;None&#39;, n_jobs=-1, penalty=&#39;l1&#39;,\n",
       "                   solver=&#39;saga&#39;)</div>"
      ]
     },
     "metadata": {
      "application/vnd.databricks.v1+output": {
       "addedWidgets": {},
       "arguments": {},
       "data": "<div class=\"ansiout\">Out[81]: LogisticRegression(C=0.1, class_weight=&#39;None&#39;, n_jobs=-1, penalty=&#39;l1&#39;,\n                   solver=&#39;saga&#39;)</div>",
       "datasetInfos": [],
       "metadata": {},
       "removedWidgets": [],
       "type": "html"
      }
     },
     "output_type": "display_data"
    }
   ],
   "source": [
    "# GridSearch\n",
    "param={'solver':('Newton-cg','lbfgs','liblinear', 'sag', 'saga'),'penalty':('l1', 'l2', 'elasticnet', 'none'),\n",
    "       'n_jobs':(-1,1,2,3),'class_weight':('balanced','None'),\n",
    "       'C':(0.2, 0.1, 0.15, 0.12, 0.3, 0.4, 0.6, 0.5, 1, 1.2, .3, 1.4, 1.5),\n",
    "       'max_iter':(100, 150, 200)}\n",
    "\n",
    "h = GridSearchCV(LogisticRegression(), param, cv=5, n_jobs=5).fit(X_train, y_train)\n",
    "\n",
    "h.best_estimator_"
   ]
  },
  {
   "cell_type": "code",
   "execution_count": null,
   "metadata": {
    "application/vnd.databricks.v1+cell": {
     "inputWidgets": {},
     "nuid": "1d58fafd-c4f5-42f4-8f2b-af65824eb8e9",
     "showTitle": false,
     "title": ""
    }
   },
   "outputs": [
    {
     "data": {
      "text/html": [
       "<style scoped>\n",
       "  .ansiout {\n",
       "    display: block;\n",
       "    unicode-bidi: embed;\n",
       "    white-space: pre-wrap;\n",
       "    word-wrap: break-word;\n",
       "    word-break: break-all;\n",
       "    font-family: \"Source Code Pro\", \"Menlo\", monospace;;\n",
       "    font-size: 13px;\n",
       "    color: #555;\n",
       "    margin-left: 4px;\n",
       "    line-height: 19px;\n",
       "  }\n",
       "</style>\n",
       "<div class=\"ansiout\">Test AUC of: 0.5159423079567171\n",
       "</div>"
      ]
     },
     "metadata": {
      "application/vnd.databricks.v1+output": {
       "addedWidgets": {},
       "arguments": {},
       "data": "<div class=\"ansiout\">Test AUC of: 0.5159423079567171\n</div>",
       "datasetInfos": [],
       "metadata": {},
       "removedWidgets": [],
       "type": "html"
      }
     },
     "output_type": "display_data"
    }
   ],
   "source": [
    "with mlflow.start_run(run_name='logistic_regression') as run:\n",
    "  model =LogisticRegression(C=0.1, class_weight='None', penalty='l1',\n",
    "                   solver='saga',random_state=0)\n",
    "  \n",
    "  # Models, parameters, and training metrics are tracked automatically\n",
    "  model.fit(X_train, y_train)\n",
    "\n",
    "  predicted_probs = model.predict_proba(X_test)\n",
    "  roc_auc = sklearn.metrics.roc_auc_score(y_test, predicted_probs[:,1])\n",
    "  \n",
    "  # The AUC score on test data is not automatically logged, so log it manually\n",
    "  mlflow.log_metric(\"test_auc\", roc_auc)\n",
    "  print(\"Test AUC of: {}\".format(roc_auc))"
   ]
  },
  {
   "cell_type": "markdown",
   "metadata": {
    "application/vnd.databricks.v1+cell": {
     "inputWidgets": {},
     "nuid": "4056a2ee-e3ce-4fe6-9717-b3256545b676",
     "showTitle": false,
     "title": ""
    }
   },
   "source": [
    "# Gradient boosting"
   ]
  },
  {
   "cell_type": "markdown",
   "metadata": {
    "application/vnd.databricks.v1+cell": {
     "inputWidgets": {},
     "nuid": "a4686dd2-a186-4760-991d-be61d2a54ff4",
     "showTitle": false,
     "title": ""
    }
   },
   "source": [
    "### Gradient Boosting with MLflow"
   ]
  },
  {
   "cell_type": "code",
   "execution_count": null,
   "metadata": {
    "application/vnd.databricks.v1+cell": {
     "inputWidgets": {},
     "nuid": "9810a9d8-1bd3-4c54-ae4b-aec736859fa2",
     "showTitle": false,
     "title": ""
    }
   },
   "outputs": [
    {
     "data": {
      "text/html": [
       "<style scoped>\n",
       "  .ansiout {\n",
       "    display: block;\n",
       "    unicode-bidi: embed;\n",
       "    white-space: pre-wrap;\n",
       "    word-wrap: break-word;\n",
       "    word-break: break-all;\n",
       "    font-family: \"Source Code Pro\", \"Menlo\", monospace;;\n",
       "    font-size: 13px;\n",
       "    color: #555;\n",
       "    margin-left: 4px;\n",
       "    line-height: 19px;\n",
       "  }\n",
       "</style>\n",
       "<div class=\"ansiout\">Test AUC of: 0.6312851466362349\n",
       "</div>"
      ]
     },
     "metadata": {
      "application/vnd.databricks.v1+output": {
       "addedWidgets": {},
       "arguments": {},
       "data": "<div class=\"ansiout\">Test AUC of: 0.6312851466362349\n</div>",
       "datasetInfos": [],
       "metadata": {},
       "removedWidgets": [],
       "type": "html"
      }
     },
     "output_type": "display_data"
    }
   ],
   "source": [
    "with mlflow.start_run(run_name='gradient_boost') as run:\n",
    "  model_2 = sklearn.ensemble.GradientBoostingClassifier(\n",
    "    random_state=0, \n",
    "    \n",
    "    # Try a new parameter setting for n_estimators\n",
    "    n_estimators=200,\n",
    "  )\n",
    "  model_2.fit(X_train, y_train)\n",
    "\n",
    "  predicted_probs = model_2.predict_proba(X_test)\n",
    "  roc_auc = sklearn.metrics.roc_auc_score(y_test, predicted_probs[:,1])\n",
    "  mlflow.log_metric(\"test_auc\", roc_auc)\n",
    "  print(\"Test AUC of: {}\".format(roc_auc))"
   ]
  },
  {
   "cell_type": "markdown",
   "metadata": {
    "application/vnd.databricks.v1+cell": {
     "inputWidgets": {},
     "nuid": "214553b9-41b0-4414-a236-354b88e6a712",
     "showTitle": false,
     "title": ""
    }
   },
   "source": [
    "### Parallel training with Hyperopt and SparkTrials"
   ]
  },
  {
   "cell_type": "code",
   "execution_count": null,
   "metadata": {
    "application/vnd.databricks.v1+cell": {
     "inputWidgets": {},
     "nuid": "e8a0aeda-3b1c-4c40-b0a1-f904a436f9ac",
     "showTitle": false,
     "title": ""
    }
   },
   "outputs": [
    {
     "data": {
      "text/html": [
       "<style scoped>\n",
       "  .ansiout {\n",
       "    display: block;\n",
       "    unicode-bidi: embed;\n",
       "    white-space: pre-wrap;\n",
       "    word-wrap: break-word;\n",
       "    word-break: break-all;\n",
       "    font-family: \"Source Code Pro\", \"Menlo\", monospace;;\n",
       "    font-size: 13px;\n",
       "    color: #555;\n",
       "    margin-left: 4px;\n",
       "    line-height: 19px;\n",
       "  }\n",
       "</style>\n",
       "<div class=\"ansiout\">\r",
       "  0%|          | 0/32 [00:00&lt;?, ?trial/s, best loss=?]\r",
       "  3%|▎         | 1/32 [00:08&lt;04:08,  8.02s/trial, best loss: -0.888369471064608]\r",
       "  6%|▋         | 2/32 [00:12&lt;02:49,  5.66s/trial, best loss: -0.888369471064608]\r",
       "  9%|▉         | 3/32 [00:17&lt;02:35,  5.36s/trial, best loss: -0.8888369471064608]\r",
       " 12%|█▎        | 4/32 [00:20&lt;02:04,  4.43s/trial, best loss: -0.897334011631904] \r",
       " 16%|█▌        | 5/32 [00:27&lt;02:24,  5.36s/trial, best loss: -0.897334011631904]\r",
       " 19%|█▉        | 6/32 [00:31&lt;02:07,  4.90s/trial, best loss: -0.897334011631904]\r",
       " 22%|██▏       | 7/32 [00:35&lt;01:55,  4.61s/trial, best loss: -0.897334011631904]\r",
       " 25%|██▌       | 8/32 [00:37&lt;01:30,  3.78s/trial, best loss: -0.897897732741197]\r",
       " 28%|██▊       | 9/32 [00:42&lt;01:35,  4.16s/trial, best loss: -0.897897732741197]\r",
       " 31%|███▏      | 10/32 [00:43&lt;01:10,  3.19s/trial, best loss: -0.897897732741197]\r",
       " 38%|███▊      | 12/32 [00:51&lt;01:11,  3.57s/trial, best loss: -0.897897732741197]\r",
       " 41%|████      | 13/32 [00:57&lt;01:19,  4.18s/trial, best loss: -0.897897732741197]\r",
       " 44%|████▍     | 14/32 [00:58&lt;01:00,  3.35s/trial, best loss: -0.897897732741197]\r",
       " 47%|████▋     | 15/32 [01:07&lt;01:23,  4.90s/trial, best loss: -0.897897732741197]\r",
       " 50%|█████     | 16/32 [01:09&lt;01:05,  4.08s/trial, best loss: -0.897897732741197]\r",
       " 53%|█████▎    | 17/32 [01:15&lt;01:09,  4.64s/trial, best loss: -0.897897732741197]\r",
       " 56%|█████▋    | 18/32 [01:18&lt;00:58,  4.16s/trial, best loss: -0.897897732741197]\r",
       " 59%|█████▉    | 19/32 [01:23&lt;00:57,  4.41s/trial, best loss: -0.897897732741197]\r",
       " 62%|██████▎   | 20/32 [01:26&lt;00:48,  4.00s/trial, best loss: -0.897897732741197]\r",
       " 66%|██████▌   | 21/32 [01:28&lt;00:37,  3.41s/trial, best loss: -0.897897732741197]\r",
       " 69%|██████▉   | 22/32 [01:38&lt;00:53,  5.38s/trial, best loss: -0.897897732741197]\r",
       " 72%|███████▏  | 23/32 [01:40&lt;00:39,  4.38s/trial, best loss: -0.897897732741197]\r",
       " 75%|███████▌  | 24/32 [01:45&lt;00:36,  4.57s/trial, best loss: -0.897897732741197]\r",
       " 78%|███████▊  | 25/32 [01:46&lt;00:24,  3.50s/trial, best loss: -0.897897732741197]\r",
       " 81%|████████▏ | 26/32 [01:52&lt;00:25,  4.26s/trial, best loss: -0.897897732741197]\r",
       " 84%|████████▍ | 27/32 [01:53&lt;00:16,  3.29s/trial, best loss: -0.897897732741197]\r",
       " 88%|████████▊ | 28/32 [01:58&lt;00:15,  3.81s/trial, best loss: -0.897897732741197]\r",
       " 91%|█████████ | 29/32 [02:00&lt;00:09,  3.27s/trial, best loss: -0.897897732741197]\r",
       " 97%|█████████▋| 31/32 [02:08&lt;00:03,  3.61s/trial, best loss: -0.897897732741197]\r",
       "100%|██████████| 32/32 [02:13&lt;00:00,  3.96s/trial, best loss: -0.897897732741197]\r",
       "100%|██████████| 32/32 [02:13&lt;00:00,  4.17s/trial, best loss: -0.897897732741197]\n",
       "Total Trials: 32: 32 succeeded, 0 failed, 0 cancelled.\n",
       "</div>"
      ]
     },
     "metadata": {
      "application/vnd.databricks.v1+output": {
       "addedWidgets": {},
       "arguments": {},
       "data": "<div class=\"ansiout\">\r  0%|          | 0/32 [00:00&lt;?, ?trial/s, best loss=?]\r  3%|▎         | 1/32 [00:08&lt;04:08,  8.02s/trial, best loss: -0.888369471064608]\r  6%|▋         | 2/32 [00:12&lt;02:49,  5.66s/trial, best loss: -0.888369471064608]\r  9%|▉         | 3/32 [00:17&lt;02:35,  5.36s/trial, best loss: -0.8888369471064608]\r 12%|█▎        | 4/32 [00:20&lt;02:04,  4.43s/trial, best loss: -0.897334011631904] \r 16%|█▌        | 5/32 [00:27&lt;02:24,  5.36s/trial, best loss: -0.897334011631904]\r 19%|█▉        | 6/32 [00:31&lt;02:07,  4.90s/trial, best loss: -0.897334011631904]\r 22%|██▏       | 7/32 [00:35&lt;01:55,  4.61s/trial, best loss: -0.897334011631904]\r 25%|██▌       | 8/32 [00:37&lt;01:30,  3.78s/trial, best loss: -0.897897732741197]\r 28%|██▊       | 9/32 [00:42&lt;01:35,  4.16s/trial, best loss: -0.897897732741197]\r 31%|███▏      | 10/32 [00:43&lt;01:10,  3.19s/trial, best loss: -0.897897732741197]\r 38%|███▊      | 12/32 [00:51&lt;01:11,  3.57s/trial, best loss: -0.897897732741197]\r 41%|████      | 13/32 [00:57&lt;01:19,  4.18s/trial, best loss: -0.897897732741197]\r 44%|████▍     | 14/32 [00:58&lt;01:00,  3.35s/trial, best loss: -0.897897732741197]\r 47%|████▋     | 15/32 [01:07&lt;01:23,  4.90s/trial, best loss: -0.897897732741197]\r 50%|█████     | 16/32 [01:09&lt;01:05,  4.08s/trial, best loss: -0.897897732741197]\r 53%|█████▎    | 17/32 [01:15&lt;01:09,  4.64s/trial, best loss: -0.897897732741197]\r 56%|█████▋    | 18/32 [01:18&lt;00:58,  4.16s/trial, best loss: -0.897897732741197]\r 59%|█████▉    | 19/32 [01:23&lt;00:57,  4.41s/trial, best loss: -0.897897732741197]\r 62%|██████▎   | 20/32 [01:26&lt;00:48,  4.00s/trial, best loss: -0.897897732741197]\r 66%|██████▌   | 21/32 [01:28&lt;00:37,  3.41s/trial, best loss: -0.897897732741197]\r 69%|██████▉   | 22/32 [01:38&lt;00:53,  5.38s/trial, best loss: -0.897897732741197]\r 72%|███████▏  | 23/32 [01:40&lt;00:39,  4.38s/trial, best loss: -0.897897732741197]\r 75%|███████▌  | 24/32 [01:45&lt;00:36,  4.57s/trial, best loss: -0.897897732741197]\r 78%|███████▊  | 25/32 [01:46&lt;00:24,  3.50s/trial, best loss: -0.897897732741197]\r 81%|████████▏ | 26/32 [01:52&lt;00:25,  4.26s/trial, best loss: -0.897897732741197]\r 84%|████████▍ | 27/32 [01:53&lt;00:16,  3.29s/trial, best loss: -0.897897732741197]\r 88%|████████▊ | 28/32 [01:58&lt;00:15,  3.81s/trial, best loss: -0.897897732741197]\r 91%|█████████ | 29/32 [02:00&lt;00:09,  3.27s/trial, best loss: -0.897897732741197]\r 97%|█████████▋| 31/32 [02:08&lt;00:03,  3.61s/trial, best loss: -0.897897732741197]\r100%|██████████| 32/32 [02:13&lt;00:00,  3.96s/trial, best loss: -0.897897732741197]\r100%|██████████| 32/32 [02:13&lt;00:00,  4.17s/trial, best loss: -0.897897732741197]\nTotal Trials: 32: 32 succeeded, 0 failed, 0 cancelled.\n</div>",
       "datasetInfos": [],
       "metadata": {},
       "removedWidgets": [],
       "type": "html"
      }
     },
     "output_type": "display_data"
    }
   ],
   "source": [
    "def train_model(params):\n",
    "  # Enable autologging on each worker\n",
    "  mlflow.autolog()\n",
    "  with mlflow.start_run(nested=True):\n",
    "    model_hp = sklearn.ensemble.GradientBoostingClassifier(\n",
    "      random_state=0,\n",
    "      **params\n",
    "    )\n",
    "    model_hp.fit(X_train, y_train)\n",
    "    predicted_probs = model_hp.predict_proba(X_test)\n",
    "    # Tune based on the test AUC\n",
    "    # In production settings, you could use a separate validation set instead\n",
    "    roc_auc = sklearn.metrics.roc_auc_score(y_test, predicted_probs[:,1])\n",
    "    mlflow.log_metric('test_auc', roc_auc)\n",
    "    \n",
    "    # Set the loss to -1*auc_score so fmin maximizes the auc_score\n",
    "    return {'status': STATUS_OK, 'loss': -1*roc_auc}\n",
    "\n",
    "# SparkTrials distributes the tuning using Spark workers\n",
    "# Greater parallelism speeds processing, but each hyperparameter trial has less information from other trials\n",
    "# On smaller clusters or Databricks Community Edition try setting parallelism=2\n",
    "spark_trials = SparkTrials(\n",
    "  parallelism=2\n",
    ")\n",
    "\n",
    "search_space = {\n",
    "  'n_estimators': scope.int(hp.quniform('n_estimators', 20, 1000, 1)),\n",
    "  'learning_rate': hp.loguniform('learning_rate', -3, 0),\n",
    "  'max_depth': scope.int(hp.quniform('max_depth', 2, 5, 1)),\n",
    "}\n",
    "\n",
    "\n",
    "with mlflow.start_run(run_name='gb_hyperopt') as run:\n",
    "  # Use hyperopt to find the parameters yielding the highest AUC\n",
    "  best_params = fmin(\n",
    "    fn=train_model, \n",
    "    space=search_space, \n",
    "    algo=tpe.suggest, \n",
    "    max_evals=32,\n",
    "    trials=spark_trials)"
   ]
  },
  {
   "cell_type": "markdown",
   "metadata": {
    "application/vnd.databricks.v1+cell": {
     "inputWidgets": {},
     "nuid": "1fab3a80-4678-4eba-af44-fd2677c0b3ae",
     "showTitle": false,
     "title": ""
    }
   },
   "source": [
    "## best model"
   ]
  },
  {
   "cell_type": "code",
   "execution_count": null,
   "metadata": {
    "application/vnd.databricks.v1+cell": {
     "inputWidgets": {},
     "nuid": "70cfa31c-8fb3-4bb4-9765-65c7e0105375",
     "showTitle": false,
     "title": ""
    }
   },
   "outputs": [
    {
     "data": {
      "text/html": [
       "<style scoped>\n",
       "  .ansiout {\n",
       "    display: block;\n",
       "    unicode-bidi: embed;\n",
       "    white-space: pre-wrap;\n",
       "    word-wrap: break-word;\n",
       "    word-break: break-all;\n",
       "    font-family: \"Source Code Pro\", \"Menlo\", monospace;;\n",
       "    font-size: 13px;\n",
       "    color: #555;\n",
       "    margin-left: 4px;\n",
       "    line-height: 19px;\n",
       "  }\n",
       "</style>\n",
       "<div class=\"ansiout\">Best Run\n",
       "AUC: 0.897897732741197\n",
       "Num Estimators: 137\n",
       "Max Depth: 3\n",
       "Learning Rate: 0.18293110635043114\n",
       "</div>"
      ]
     },
     "metadata": {
      "application/vnd.databricks.v1+output": {
       "addedWidgets": {},
       "arguments": {},
       "data": "<div class=\"ansiout\">Best Run\nAUC: 0.897897732741197\nNum Estimators: 137\nMax Depth: 3\nLearning Rate: 0.18293110635043114\n</div>",
       "datasetInfos": [],
       "metadata": {},
       "removedWidgets": [],
       "type": "html"
      }
     },
     "output_type": "display_data"
    }
   ],
   "source": [
    "# Sort runs by their test auc; in case of ties, use the most recent run\n",
    "best_run = mlflow.search_runs(\n",
    "  order_by=['metrics.test_auc DESC', 'start_time DESC'],\n",
    "  max_results=10,\n",
    ").iloc[0]\n",
    "print('Best Run')\n",
    "print('AUC: {}'.format(best_run[\"metrics.test_auc\"]))\n",
    "print('Num Estimators: {}'.format(best_run[\"params.n_estimators\"]))\n",
    "print('Max Depth: {}'.format(best_run[\"params.max_depth\"]))\n",
    "print('Learning Rate: {}'.format(best_run[\"params.learning_rate\"]))"
   ]
  },
  {
   "cell_type": "markdown",
   "metadata": {
    "application/vnd.databricks.v1+cell": {
     "inputWidgets": {},
     "nuid": "49350ad8-6e23-44d0-b66b-c1b643efc911",
     "showTitle": false,
     "title": ""
    }
   },
   "source": [
    "### Metrics for test and train"
   ]
  },
  {
   "cell_type": "code",
   "execution_count": null,
   "metadata": {
    "application/vnd.databricks.v1+cell": {
     "inputWidgets": {},
     "nuid": "69b284a5-b5b1-4a7f-bf92-8382dd5f3ea8",
     "showTitle": false,
     "title": ""
    }
   },
   "outputs": [
    {
     "data": {
      "text/html": [
       "<style scoped>\n",
       "  .ansiout {\n",
       "    display: block;\n",
       "    unicode-bidi: embed;\n",
       "    white-space: pre-wrap;\n",
       "    word-wrap: break-word;\n",
       "    word-break: break-all;\n",
       "    font-family: \"Source Code Pro\", \"Menlo\", monospace;;\n",
       "    font-size: 13px;\n",
       "    color: #555;\n",
       "    margin-left: 4px;\n",
       "    line-height: 19px;\n",
       "  }\n",
       "</style>\n",
       "<div class=\"ansiout\">Accuracy confidence interval: 0.7557779066769786 +- 0.015148914945866338\n",
       "ROC AUC confidence interval: 0.851513477747126 +- 0.014309068923724353\n",
       "F1 confidence interval: 0.7351799994062465 +- 0.020865420657431587\n",
       "Precison confidence interval: 0.7540693222723859 +- 0.010876099762018502\n",
       "Recall confidence interval: 0.7179387852702057 +- 0.035160929209478824\n",
       "</div>"
      ]
     },
     "metadata": {
      "application/vnd.databricks.v1+output": {
       "addedWidgets": {},
       "arguments": {},
       "data": "<div class=\"ansiout\">Accuracy confidence interval: 0.7557779066769786 +- 0.015148914945866338\nROC AUC confidence interval: 0.851513477747126 +- 0.014309068923724353\nF1 confidence interval: 0.7351799994062465 +- 0.020865420657431587\nPrecison confidence interval: 0.7540693222723859 +- 0.010876099762018502\nRecall confidence interval: 0.7179387852702057 +- 0.035160929209478824\n</div>",
       "datasetInfos": [],
       "metadata": {},
       "removedWidgets": [],
       "type": "html"
      }
     },
     "output_type": "display_data"
    }
   ],
   "source": [
    "clf = sklearn.ensemble.GradientBoostingClassifier(n_estimators=137, learning_rate=0.18,max_depth=3, random_state=0)\n",
    "\n",
    "scoring = ['accuracy', 'roc_auc', 'f1', 'precision', 'recall']\n",
    "\n",
    "result = cross_validate(clf, X_train, y_train, cv=5, scoring=scoring, return_estimator=True)\n",
    "\n",
    "print(\"Accuracy confidence interval: {} +- {}\".format(result['test_accuracy'].mean(), result['test_accuracy'].std()))\n",
    "print(\"ROC AUC confidence interval: {} +- {}\".format(result['test_roc_auc'].mean(), result['test_roc_auc'].std()))\n",
    "print(\"F1 confidence interval: {} +- {}\".format(result['test_f1'].mean(), result['test_f1'].std()))\n",
    "print(\"Precison confidence interval: {} +- {}\".format(result['test_precision'].mean(), result['test_precision'].std()))\n",
    "print(\"Recall confidence interval: {} +- {}\".format(result['test_recall'].mean(), result['test_recall'].std()))"
   ]
  },
  {
   "cell_type": "code",
   "execution_count": null,
   "metadata": {
    "application/vnd.databricks.v1+cell": {
     "inputWidgets": {},
     "nuid": "fb13ac01-e0d0-4eb4-9473-7929f5a53b52",
     "showTitle": false,
     "title": ""
    }
   },
   "outputs": [
    {
     "data": {
      "text/html": [
       "<style scoped>\n",
       "  .ansiout {\n",
       "    display: block;\n",
       "    unicode-bidi: embed;\n",
       "    white-space: pre-wrap;\n",
       "    word-wrap: break-word;\n",
       "    word-break: break-all;\n",
       "    font-family: \"Source Code Pro\", \"Menlo\", monospace;;\n",
       "    font-size: 13px;\n",
       "    color: #555;\n",
       "    margin-left: 4px;\n",
       "    line-height: 19px;\n",
       "  }\n",
       "</style>\n",
       "<div class=\"ansiout\">Accuracy confidence interval: 0.7481481481481481 +- 0.014814814814814814\n",
       "ROC AUC confidence interval: 0.8228959465027575 +- 0.012459624826211385\n",
       "F1 confidence interval: 0.7310183251334842 +- 0.018523100808185682\n",
       "Precison confidence interval: 0.7429283559577676 +- 0.01319145550319015\n",
       "Recall confidence interval: 0.7199095022624434 +- 0.028146388694309372\n",
       "</div>"
      ]
     },
     "metadata": {
      "application/vnd.databricks.v1+output": {
       "addedWidgets": {},
       "arguments": {},
       "data": "<div class=\"ansiout\">Accuracy confidence interval: 0.7481481481481481 +- 0.014814814814814814\nROC AUC confidence interval: 0.8228959465027575 +- 0.012459624826211385\nF1 confidence interval: 0.7310183251334842 +- 0.018523100808185682\nPrecison confidence interval: 0.7429283559577676 +- 0.01319145550319015\nRecall confidence interval: 0.7199095022624434 +- 0.028146388694309372\n</div>",
       "datasetInfos": [],
       "metadata": {},
       "removedWidgets": [],
       "type": "html"
      }
     },
     "output_type": "display_data"
    }
   ],
   "source": [
    "clf = sklearn.ensemble.GradientBoostingClassifier(n_estimators=137, learning_rate=0.18,max_depth=3, random_state=0)\n",
    "\n",
    "scoring = ['accuracy', 'roc_auc', 'f1', 'precision', 'recall']\n",
    "\n",
    "result = cross_validate(clf, X_test, y_test, cv=5, scoring=scoring, return_estimator=True)\n",
    "\n",
    "print(\"Accuracy confidence interval: {} +- {}\".format(result['test_accuracy'].mean(), result['test_accuracy'].std()))\n",
    "print(\"ROC AUC confidence interval: {} +- {}\".format(result['test_roc_auc'].mean(), result['test_roc_auc'].std()))\n",
    "print(\"F1 confidence interval: {} +- {}\".format(result['test_f1'].mean(), result['test_f1'].std()))\n",
    "print(\"Precison confidence interval: {} +- {}\".format(result['test_precision'].mean(), result['test_precision'].std()))\n",
    "print(\"Recall confidence interval: {} +- {}\".format(result['test_recall'].mean(), result['test_recall'].std()))"
   ]
  }
 ],
 "metadata": {
  "application/vnd.databricks.v1+notebook": {
   "dashboards": [
    {
     "elements": [
      {
       "elementNUID": "a8baaaa3-b5db-4ae7-be0c-5f46f1e59e46",
       "elementType": "command",
       "guid": "d4d2d0c4-eced-4305-96a1-1a59ce74dd79",
       "options": null,
       "position": {
        "height": 6,
        "width": 12,
        "x": 0,
        "y": 0,
        "z": null
       }
      }
     ],
     "globalVars": {},
     "guid": "0a76f357-a3d7-452b-bc5c-74fd67390630",
     "layoutOption": {
      "grid": true,
      "stack": true
     },
     "nuid": "ce213009-67cd-4ee3-bdf3-761a486a66ce",
     "origId": 1829371266414304,
     "title": "Untitled",
     "version": "DashboardViewV1",
     "width": 1024
    }
   ],
   "language": "python",
   "notebookMetadata": {
    "experimentId": "1829371266414295",
    "pythonIndentUnit": 2
   },
   "notebookName": "Kaggle_Water_Quality",
   "notebookOrigID": 1829371266414295,
   "widgets": {}
  },
  "kernelspec": {
   "display_name": "Python 3",
   "language": "python",
   "name": "python3"
  },
  "language_info": {
   "codemirror_mode": {
    "name": "ipython",
    "version": 3
   },
   "file_extension": ".py",
   "mimetype": "text/x-python",
   "name": "python",
   "nbconvert_exporter": "python",
   "pygments_lexer": "ipython3",
   "version": "3.8.5"
  }
 },
 "nbformat": 4,
 "nbformat_minor": 4
}
